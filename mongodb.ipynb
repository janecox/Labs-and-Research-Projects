{
 "cells": [
  {
   "cell_type": "markdown",
   "metadata": {},
   "source": [
    "# Volume 3: MongoDB.\n",
    "    <Jane Cox>\n",
    "    <Math 403>\n",
    "    <November 13 2018>"
   ]
  },
  {
   "cell_type": "code",
   "execution_count": 1,
   "metadata": {
    "collapsed": true
   },
   "outputs": [],
   "source": [
    "import re\n",
    "import json\n",
    "import numpy as np\n",
    "from pymongo import MongoClient"
   ]
  },
  {
   "cell_type": "markdown",
   "metadata": {},
   "source": [
    "## Problem 1\n",
    "\n",
    "The file `trump.json` contains posts from http://www.twitter.com (tweets) over the course of an hour that have the key word \"trump\".\n",
    "Each line in the file is a single JSON message that can be loaded with `json.loads()`.\n",
    "\n",
    "Create a MongoDB database and initialize a collection in the database.\n",
    "Use the collection's `delete_many()` method with an empy set as input to clear existing contents of the collection, then fill the collection one line at a time with the data from `trump.json`.\n",
    "Check that your collection has 95,643 entries with its `count()` method."
   ]
  },
  {
   "cell_type": "code",
   "execution_count": 5,
   "metadata": {},
   "outputs": [
    {
     "name": "stderr",
     "output_type": "stream",
     "text": [
      "/usr/local/anaconda3/lib/python3.6/site-packages/ipykernel_launcher.py:10: DeprecationWarning: count is deprecated. Use estimated_document_count or count_documents instead. Please note that $where must be replaced by $expr, $near must be replaced by $geoWithin with $center, and $nearSphere must be replaced by $geoWithin with $centerSphere\n",
      "  # Remove the CWD from sys.path while we load stuff.\n"
     ]
    },
    {
     "data": {
      "text/plain": [
       "95643"
      ]
     },
     "execution_count": 5,
     "metadata": {},
     "output_type": "execute_result"
    }
   ],
   "source": [
    "client = MongoClient()\n",
    "db1 = client.db1\n",
    "collect = db1.collections2\n",
    "collect.delete_many({})\n",
    "\n",
    "with open('trump.json', 'r') as infile:\n",
    "    for line in infile:\n",
    "        collect.insert_one(json.loads(line))\n",
    "    \n",
    "collect.count()"
   ]
  },
  {
   "cell_type": "markdown",
   "metadata": {},
   "source": [
    "## Problem 2\n",
    "\n",
    "Query the Twitter collection for the following information.\n",
    "- How many tweets include the word Russia? Use `re.IGNORECASE`.\n",
    "- How many tweets came from one of the main continental US time zones? These are listed as `\"Central Time (US & Canada)\"`, `\"Pacific Time (US & Canada)\"`, `\"Eastern Time (US & Canada)\"`, and `\"Mountain Time (US & Canada)\"`.\n",
    "- How often does each language occur? Construct a dictionary with each language and it’s frequency count."
   ]
  },
  {
   "cell_type": "code",
   "execution_count": 6,
   "metadata": {},
   "outputs": [
    {
     "name": "stdout",
     "output_type": "stream",
     "text": [
      "{\"created_at\":\"Fri May 26 19:18:30 +0000 2017\",\"id\":868184586844549121,\"id_str\":\"868184586844549121\",\"text\":\"RT @TruthFeedNews: LIBERAL SPIN: Democrats Are Saying That Losing in Montana is \\\"A Win\\\" https:\\/\\/t.co\\/t6QJFs0i4S #maga #trumptrain #trump\",\"source\":\"\\u003ca href=\\\"http:\\/\\/twitter.com\\\" rel=\\\"nofollow\\\"\\u003eTwitter Web Client\\u003c\\/a\\u003e\",\"truncated\":false,\"in_reply_to_status_id\":null,\"in_reply_to_status_id_str\":null,\"in_reply_to_user_id\":null,\"in_reply_to_user_id_str\":null,\"in_reply_to_screen_name\":null,\"user\":{\"id\":15619384,\"id_str\":\"15619384\",\"name\":\"gab.ai\\/Meowma\",\"screen_name\":\"Meowma\",\"location\":\"Hollywood, California\",\"url\":\"https:\\/\\/youtu.be\\/PkBxePSZ1ZI\",\"description\":\"Liberated #Hollywood entertainment industry artist and producer. Exposing #scumbags...especially #illuminati, #warmongers and #zionists. #CorruptionDisruption\",\"protected\":false,\"verified\":false,\"followers_count\":5393,\"friends_count\":2551,\"listed_count\":148,\"favourites_count\":15622,\"statuses_count\":22216,\"created_at\":\"Sun Jul 27 11:41:12 +0000 2008\",\"utc_offset\":-25200,\"time_zone\":\"Pacific Time (US & Canada)\",\"geo_enabled\":false,\"lang\":\"en\",\"contributors_enabled\":false,\"is_translator\":false,\"profile_background_color\":\"333333\",\"profile_background_image_url\":\"http:\\/\\/pbs.twimg.com\\/profile_background_images\\/2941822\\/stars_background.png\",\"profile_background_image_url_https\":\"https:\\/\\/pbs.twimg.com\\/profile_background_images\\/2941822\\/stars_background.png\",\"profile_background_tile\":true,\"profile_link_color\":\"0000FF\",\"profile_sidebar_border_color\":\"87BC44\",\"profile_sidebar_fill_color\":\"94A6FF\",\"profile_text_color\":\"666666\",\"profile_use_background_image\":true,\"profile_image_url\":\"http:\\/\\/pbs.twimg.com\\/profile_images\\/803094514860756992\\/h0jdrPo3_normal.jpg\",\"profile_image_url_https\":\"https:\\/\\/pbs.twimg.com\\/profile_images\\/803094514860756992\\/h0jdrPo3_normal.jpg\",\"profile_banner_url\":\"https:\\/\\/pbs.twimg.com\\/profile_banners\\/15619384\\/1480107420\",\"default_profile\":false,\"default_profile_image\":false,\"following\":null,\"follow_request_sent\":null,\"notifications\":null},\"geo\":null,\"coordinates\":null,\"place\":null,\"contributors\":null,\"retweeted_status\":{\"created_at\":\"Fri May 26 17:17:41 +0000 2017\",\"id\":868154183190552576,\"id_str\":\"868154183190552576\",\"text\":\"LIBERAL SPIN: Democrats Are Saying That Losing in Montana is \\\"A Win\\\" https:\\/\\/t.co\\/t6QJFs0i4S #maga #trumptrain #trump\",\"source\":\"\\u003ca href=\\\"http:\\/\\/twitter.com\\\" rel=\\\"nofollow\\\"\\u003eTwitter Web Client\\u003c\\/a\\u003e\",\"truncated\":false,\"in_reply_to_status_id\":null,\"in_reply_to_status_id_str\":null,\"in_reply_to_user_id\":null,\"in_reply_to_user_id_str\":null,\"in_reply_to_screen_name\":null,\"user\":{\"id\":707278892801765377,\"id_str\":\"707278892801765377\",\"name\":\"TruthFeed News\",\"screen_name\":\"TruthFeedNews\",\"location\":null,\"url\":\"http:\\/\\/truthfeed.com\",\"description\":\"Find us at https:\\/\\/truthfeed.com and on FB https:\\/\\/www.facebook.com\\/truthfeed\",\"protected\":false,\"verified\":false,\"followers_count\":17444,\"friends_count\":16,\"listed_count\":223,\"favourites_count\":358,\"statuses_count\":12987,\"created_at\":\"Tue Mar 08 18:56:43 +0000 2016\",\"utc_offset\":null,\"time_zone\":null,\"geo_enabled\":false,\"lang\":\"en\",\"contributors_enabled\":false,\"is_translator\":false,\"profile_background_color\":\"000000\",\"profile_background_image_url\":\"http:\\/\\/abs.twimg.com\\/images\\/themes\\/theme1\\/bg.png\",\"profile_background_image_url_https\":\"https:\\/\\/abs.twimg.com\\/images\\/themes\\/theme1\\/bg.png\",\"profile_background_tile\":false,\"profile_link_color\":\"ABB8C2\",\"profile_sidebar_border_color\":\"000000\",\"profile_sidebar_fill_color\":\"000000\",\"profile_text_color\":\"000000\",\"profile_use_background_image\":false,\"profile_image_url\":\"http:\\/\\/pbs.twimg.com\\/profile_images\\/724552641766813696\\/FYuVNVh6_normal.jpg\",\"profile_image_url_https\":\"https:\\/\\/pbs.twimg.com\\/profile_images\\/724552641766813696\\/FYuVNVh6_normal.jpg\",\"profile_banner_url\":\"https:\\/\\/pbs.twimg.com\\/profile_banners\\/707278892801765377\\/1484913229\",\"default_profile\":false,\"default_profile_image\":false,\"following\":null,\"follow_request_sent\":null,\"notifications\":null},\"geo\":null,\"coordinates\":null,\"place\":null,\"contributors\":null,\"is_quote_status\":false,\"retweet_count\":29,\"favorite_count\":25,\"entities\":{\"hashtags\":[{\"text\":\"maga\",\"indices\":[93,98]},{\"text\":\"trumptrain\",\"indices\":[99,110]},{\"text\":\"trump\",\"indices\":[111,117]}],\"urls\":[{\"url\":\"https:\\/\\/t.co\\/t6QJFs0i4S\",\"expanded_url\":\"http:\\/\\/truthfeed.com\\/liberal-spin-democrats-are-saying-that-losing-in-montana-is-a-win\\/76338\\/\",\"display_url\":\"truthfeed.com\\/liberal-spin-d\\u2026\",\"indices\":[69,92]}],\"user_mentions\":[],\"symbols\":[]},\"favorited\":false,\"retweeted\":false,\"possibly_sensitive\":false,\"filter_level\":\"low\",\"lang\":\"en\"},\"is_quote_status\":false,\"retweet_count\":0,\"favorite_count\":0,\"entities\":{\"hashtags\":[{\"text\":\"maga\",\"indices\":[112,117]},{\"text\":\"trumptrain\",\"indices\":[118,129]},{\"text\":\"trump\",\"indices\":[130,136]}],\"urls\":[{\"url\":\"https:\\/\\/t.co\\/t6QJFs0i4S\",\"expanded_url\":\"http:\\/\\/truthfeed.com\\/liberal-spin-democrats-are-saying-that-losing-in-montana-is-a-win\\/76338\\/\",\"display_url\":\"truthfeed.com\\/liberal-spin-d\\u2026\",\"indices\":[88,111]}],\"user_mentions\":[{\"screen_name\":\"TruthFeedNews\",\"name\":\"TruthFeed News\",\"id\":707278892801765377,\"id_str\":\"707278892801765377\",\"indices\":[3,17]}],\"symbols\":[]},\"favorited\":false,\"retweeted\":false,\"possibly_sensitive\":false,\"filter_level\":\"low\",\"lang\":\"en\",\"timestamp_ms\":\"1495826310250\"}\r",
      "\r\n",
      "{\"created_at\":\"Fri May 26 19:18:30 +0000 2017\",\"id\":868184587007967232,\"id_str\":\"868184587007967232\",\"text\":\"RT @bocavista2016: #FAKENEWS IGNORED THIS STORY\\n\\nWhy?\\n\\n\\ud83d\\udc49#Trump made a 14-year old cancer patient dream come true while in Israel\\u2026 \",\"source\":\"\\u003ca href=\\\"https:\\/\\/mobile.twitter.com\\\" rel=\\\"nofollow\\\"\\u003eTwitter Lite\\u003c\\/a\\u003e\",\"truncated\":false,\"in_reply_to_status_id\":null,\"in_reply_to_status_id_str\":null,\"in_reply_to_user_id\":null,\"in_reply_to_user_id_str\":null,\"in_reply_to_screen_name\":null,\"user\":{\"id\":788127215611355136,\"id_str\":\"788127215611355136\",\"name\":\"Elephant Leva\",\"screen_name\":\"ElephantLeva\",\"location\":\"None\",\"url\":null,\"description\":\"#Antimoderndayfeminist. Husband lover.  Loving mother.  Gun owner. Sick of the victim mentality. Our President's a good man. Stop it. \\ud83c\\uddfa\\ud83c\\uddf8\",\"protected\":false,\"verified\":false,\"followers_count\":125,\"friends_count\":205,\"listed_count\":2,\"favourites_count\":585,\"statuses_count\":958,\"created_at\":\"Mon Oct 17 21:19:05 +0000 2016\",\"utc_offset\":null,\"time_zone\":null,\"geo_enabled\":false,\"lang\":\"en\",\"contributors_enabled\":false,\"is_translator\":false,\"profile_background_color\":\"F5F8FA\",\"profile_background_image_url\":\"\",\"profile_background_image_url_https\":\"\",\"profile_background_tile\":false,\"profile_link_color\":\"1DA1F2\",\"profile_sidebar_border_color\":\"C0DEED\",\"profile_sidebar_fill_color\":\"DDEEF6\",\"profile_text_color\":\"333333\",\"profile_use_background_image\":true,\"profile_image_url\":\"http:\\/\\/pbs.twimg.com\\/profile_images\\/864710920391372800\\/0GOT0YZh_normal.jpg\",\"profile_image_url_https\":\"https:\\/\\/pbs.twimg.com\\/profile_images\\/864710920391372800\\/0GOT0YZh_normal.jpg\",\"profile_banner_url\":\"https:\\/\\/pbs.twimg.com\\/profile_banners\\/788127215611355136\\/1479000665\",\"default_profile\":true,\"default_profile_image\":false,\"following\":null,\"follow_request_sent\":null,\"notifications\":null},\"geo\":null,\"coordinates\":null,\"place\":null,\"contributors\":null,\"retweeted_status\":{\"created_at\":\"Fri May 26 17:09:58 +0000 2017\",\"id\":868152243081682945,\"id_str\":\"868152243081682945\",\"text\":\"#FAKENEWS IGNORED THIS STORY\\n\\nWhy?\\n\\n\\ud83d\\udc49#Trump made a 14-year old cancer patient dream come true while in Israel\\u2026 https:\\/\\/t.co\\/1Jj7ztg9Pq\",\"display_text_range\":[0,140],\"source\":\"\\u003ca href=\\\"http:\\/\\/twitter.com\\\" rel=\\\"nofollow\\\"\\u003eTwitter Web Client\\u003c\\/a\\u003e\",\"truncated\":true,\"in_reply_to_status_id\":null,\"in_reply_to_status_id_str\":null,\"in_reply_to_user_id\":null,\"in_reply_to_user_id_str\":null,\"in_reply_to_screen_name\":null,\"user\":{\"id\":4175166177,\"id_str\":\"4175166177\",\"name\":\"Boca Vista\",\"screen_name\":\"bocavista2016\",\"location\":\"Raleigh, NC\",\"url\":null,\"description\":\"Trump or NONE!\",\"protected\":false,\"verified\":false,\"followers_count\":21622,\"friends_count\":28,\"listed_count\":225,\"favourites_count\":29066,\"statuses_count\":29772,\"created_at\":\"Fri Nov 13 00:52:41 +0000 2015\",\"utc_offset\":-25200,\"time_zone\":\"Pacific Time (US & Canada)\",\"geo_enabled\":false,\"lang\":\"en\",\"contributors_enabled\":false,\"is_translator\":false,\"profile_background_color\":\"C0DEED\",\"profile_background_image_url\":\"http:\\/\\/abs.twimg.com\\/images\\/themes\\/theme1\\/bg.png\",\"profile_background_image_url_https\":\"https:\\/\\/abs.twimg.com\\/images\\/themes\\/theme1\\/bg.png\",\"profile_background_tile\":false,\"profile_link_color\":\"1DA1F2\",\"profile_sidebar_border_color\":\"C0DEED\",\"profile_sidebar_fill_color\":\"DDEEF6\",\"profile_text_color\":\"333333\",\"profile_use_background_image\":true,\"profile_image_url\":\"http:\\/\\/pbs.twimg.com\\/profile_images\\/664981777849585664\\/mXHlVpSJ_normal.jpg\",\"profile_image_url_https\":\"https:\\/\\/pbs.twimg.com\\/profile_images\\/664981777849585664\\/mXHlVpSJ_normal.jpg\",\"profile_banner_url\":\"https:\\/\\/pbs.twimg.com\\/profile_banners\\/4175166177\\/1455066437\",\"default_profile\":true,\"default_profile_image\":false,\"following\":null,\"follow_request_sent\":null,\"notifications\":null},\"geo\":null,\"coordinates\":null,\"place\":null,\"contributors\":null,\"is_quote_status\":false,\"extended_tweet\":{\"full_text\":\"#FAKENEWS IGNORED THIS STORY\\n\\nWhy?\\n\\n\\ud83d\\udc49#Trump made a 14-year old cancer patient dream come true while in Israel\\n\\n#MAGA #Hannity #FridayFeeling https:\\/\\/t.co\\/AapOgQ1SfP\",\"display_text_range\":[0,140],\"entities\":{\"hashtags\":[{\"text\":\"FAKENEWS\",\"indices\":[0,9]},{\"text\":\"Trump\",\"indices\":[37,43]},{\"text\":\"MAGA\",\"indices\":[111,116]},{\"text\":\"Hannity\",\"indices\":[117,125]},{\"text\":\"FridayFeeling\",\"indices\":[126,140]}],\"urls\":[],\"user_mentions\":[],\"symbols\":[],\"media\":[{\"id\":868149169449467907,\"id_str\":\"868149169449467907\",\"indices\":[141,164],\"media_url\":\"http:\\/\\/pbs.twimg.com\\/media\\/DAxJEekWAAMIiYb.jpg\",\"media_url_https\":\"https:\\/\\/pbs.twimg.com\\/media\\/DAxJEekWAAMIiYb.jpg\",\"url\":\"https:\\/\\/t.co\\/AapOgQ1SfP\",\"display_url\":\"pic.twitter.com\\/AapOgQ1SfP\",\"expanded_url\":\"https:\\/\\/twitter.com\\/bocavista2016\\/status\\/868152243081682945\\/photo\\/1\",\"type\":\"photo\",\"sizes\":{\"small\":{\"w\":680,\"h\":575,\"resize\":\"fit\"},\"medium\":{\"w\":774,\"h\":655,\"resize\":\"fit\"},\"thumb\":{\"w\":150,\"h\":150,\"resize\":\"crop\"},\"large\":{\"w\":774,\"h\":655,\"resize\":\"fit\"}}},{\"id\":868150093672849412,\"id_str\":\"868150093672849412\",\"indices\":[141,164],\"media_url\":\"http:\\/\\/pbs.twimg.com\\/media\\/DAxJ6RkXoAQZ_Kz.jpg\",\"media_url_https\":\"https:\\/\\/pbs.twimg.com\\/media\\/DAxJ6RkXoAQZ_Kz.jpg\",\"url\":\"https:\\/\\/t.co\\/AapOgQ1SfP\",\"display_url\":\"pic.twitter.com\\/AapOgQ1SfP\",\"expanded_url\":\"https:\\/\\/twitter.com\\/bocavista2016\\/status\\/868152243081682945\\/photo\\/1\",\"type\":\"photo\",\"sizes\":{\"medium\":{\"w\":466,\"h\":611,\"resize\":\"fit\"},\"large\":{\"w\":466,\"h\":611,\"resize\":\"fit\"},\"small\":{\"w\":466,\"h\":611,\"resize\":\"fit\"},\"thumb\":{\"w\":150,\"h\":150,\"resize\":\"crop\"}}}]},\"extended_entities\":{\"media\":[{\"id\":868149169449467907,\"id_str\":\"868149169449467907\",\"indices\":[141,164],\"media_url\":\"http:\\/\\/pbs.twimg.com\\/media\\/DAxJEekWAAMIiYb.jpg\",\"media_url_https\":\"https:\\/\\/pbs.twimg.com\\/media\\/DAxJEekWAAMIiYb.jpg\",\"url\":\"https:\\/\\/t.co\\/AapOgQ1SfP\",\"display_url\":\"pic.twitter.com\\/AapOgQ1SfP\",\"expanded_url\":\"https:\\/\\/twitter.com\\/bocavista2016\\/status\\/868152243081682945\\/photo\\/1\",\"type\":\"photo\",\"sizes\":{\"small\":{\"w\":680,\"h\":575,\"resize\":\"fit\"},\"medium\":{\"w\":774,\"h\":655,\"resize\":\"fit\"},\"thumb\":{\"w\":150,\"h\":150,\"resize\":\"crop\"},\"large\":{\"w\":774,\"h\":655,\"resize\":\"fit\"}}},{\"id\":868150093672849412,\"id_str\":\"868150093672849412\",\"indices\":[141,164],\"media_url\":\"http:\\/\\/pbs.twimg.com\\/media\\/DAxJ6RkXoAQZ_Kz.jpg\",\"media_url_https\":\"https:\\/\\/pbs.twimg.com\\/media\\/DAxJ6RkXoAQZ_Kz.jpg\",\"url\":\"https:\\/\\/t.co\\/AapOgQ1SfP\",\"display_url\":\"pic.twitter.com\\/AapOgQ1SfP\",\"expanded_url\":\"https:\\/\\/twitter.com\\/bocavista2016\\/status\\/868152243081682945\\/photo\\/1\",\"type\":\"photo\",\"sizes\":{\"medium\":{\"w\":466,\"h\":611,\"resize\":\"fit\"},\"large\":{\"w\":466,\"h\":611,\"resize\":\"fit\"},\"small\":{\"w\":466,\"h\":611,\"resize\":\"fit\"},\"thumb\":{\"w\":150,\"h\":150,\"resize\":\"crop\"}}}]}},\"retweet_count\":62,\"favorite_count\":89,\"entities\":{\"hashtags\":[{\"text\":\"FAKENEWS\",\"indices\":[0,9]},{\"text\":\"Trump\",\"indices\":[37,43]}],\"urls\":[{\"url\":\"https:\\/\\/t.co\\/1Jj7ztg9Pq\",\"expanded_url\":\"https:\\/\\/twitter.com\\/i\\/web\\/status\\/868152243081682945\",\"display_url\":\"twitter.com\\/i\\/web\\/status\\/8\\u2026\",\"indices\":[111,134]}],\"user_mentions\":[],\"symbols\":[]},\"favorited\":false,\"retweeted\":false,\"possibly_sensitive\":false,\"filter_level\":\"low\",\"lang\":\"en\"},\"is_quote_status\":false,\"retweet_count\":0,\"favorite_count\":0,\"entities\":{\"hashtags\":[{\"text\":\"FAKENEWS\",\"indices\":[19,28]},{\"text\":\"Trump\",\"indices\":[56,62]}],\"urls\":[{\"url\":\"\",\"expanded_url\":null,\"indices\":[130,130]}],\"user_mentions\":[{\"screen_name\":\"bocavista2016\",\"name\":\"Boca Vista\",\"id\":4175166177,\"id_str\":\"4175166177\",\"indices\":[3,17]}],\"symbols\":[]},\"favorited\":false,\"retweeted\":false,\"filter_level\":\"low\",\"lang\":\"en\",\"timestamp_ms\":\"1495826310289\"}\r",
      "\r\n",
      "{\"created_at\":\"Fri May 26 19:18:30 +0000 2017\",\"id\":868184587146539009,\"id_str\":\"868184587146539009\",\"text\":\"Flame your crew quicker than Trump fucks his youngest\",\"source\":\"\\u003ca href=\\\"http:\\/\\/twitter.com\\/download\\/iphone\\\" rel=\\\"nofollow\\\"\\u003eTwitter for iPhone\\u003c\\/a\\u003e\",\"truncated\":false,\"in_reply_to_status_id\":null,\"in_reply_to_status_id_str\":null,\"in_reply_to_user_id\":null,\"in_reply_to_user_id_str\":null,\"in_reply_to_screen_name\":null,\"user\":{\"id\":1144857446,\"id_str\":\"1144857446\",\"name\":\"dean\",\"screen_name\":\"ThirdActPhil\",\"location\":\"The Granite City\",\"url\":null,\"description\":null,\"protected\":false,\"verified\":false,\"followers_count\":125,\"friends_count\":67,\"listed_count\":0,\"favourites_count\":1985,\"statuses_count\":1210,\"created_at\":\"Sun Feb 03 10:53:00 +0000 2013\",\"utc_offset\":3600,\"time_zone\":\"London\",\"geo_enabled\":true,\"lang\":\"en\",\"contributors_enabled\":false,\"is_translator\":false,\"profile_background_color\":\"FFFFFF\",\"profile_background_image_url\":\"http:\\/\\/pbs.twimg.com\\/profile_background_images\\/459073523676233728\\/soQ329X3.png\",\"profile_background_image_url_https\":\"https:\\/\\/pbs.twimg.com\\/profile_background_images\\/459073523676233728\\/soQ329X3.png\",\"profile_background_tile\":false,\"profile_link_color\":\"991111\",\"profile_sidebar_border_color\":\"FFFFFF\",\"profile_sidebar_fill_color\":\"FFFFFF\",\"profile_text_color\":\"000000\",\"profile_use_background_image\":true,\"profile_image_url\":\"http:\\/\\/pbs.twimg.com\\/profile_images\\/864588156464644096\\/VOp0xu0E_normal.jpg\",\"profile_image_url_https\":\"https:\\/\\/pbs.twimg.com\\/profile_images\\/864588156464644096\\/VOp0xu0E_normal.jpg\",\"profile_banner_url\":\"https:\\/\\/pbs.twimg.com\\/profile_banners\\/1144857446\\/1494968453\",\"default_profile\":false,\"default_profile_image\":false,\"following\":null,\"follow_request_sent\":null,\"notifications\":null},\"geo\":null,\"coordinates\":null,\"place\":null,\"contributors\":null,\"is_quote_status\":false,\"retweet_count\":0,\"favorite_count\":0,\"entities\":{\"hashtags\":[],\"urls\":[],\"user_mentions\":[],\"symbols\":[]},\"favorited\":false,\"retweeted\":false,\"filter_level\":\"low\",\"lang\":\"en\",\"timestamp_ms\":\"1495826310322\"}\r",
      "\r\n",
      "{\"created_at\":\"Fri May 26 19:18:30 +0000 2017\",\"id\":868184587377225729,\"id_str\":\"868184587377225729\",\"text\":\"RT @USATODAY: Melania Trump's floral Dolce &amp; Gabbana coat costs $51K -- about the average U.S. household income\\u2026 \",\"source\":\"\\u003ca href=\\\"http:\\/\\/twitter.com\\/download\\/android\\\" rel=\\\"nofollow\\\"\\u003eTwitter for Android\\u003c\\/a\\u003e\",\"truncated\":false,\"in_reply_to_status_id\":null,\"in_reply_to_status_id_str\":null,\"in_reply_to_user_id\":null,\"in_reply_to_user_id_str\":null,\"in_reply_to_screen_name\":null,\"user\":{\"id\":2947227167,\"id_str\":\"2947227167\",\"name\":\"oscar ayala\",\"screen_name\":\"vivebien120\",\"location\":\"Indiana\",\"url\":null,\"description\":null,\"protected\":false,\"verified\":false,\"followers_count\":134,\"friends_count\":460,\"listed_count\":8,\"favourites_count\":2006,\"statuses_count\":3244,\"created_at\":\"Mon Dec 29 00:50:00 +0000 2014\",\"utc_offset\":null,\"time_zone\":null,\"geo_enabled\":true,\"lang\":\"en\",\"contributors_enabled\":false,\"is_translator\":false,\"profile_background_color\":\"C0DEED\",\"profile_background_image_url\":\"http:\\/\\/abs.twimg.com\\/images\\/themes\\/theme1\\/bg.png\",\"profile_background_image_url_https\":\"https:\\/\\/abs.twimg.com\\/images\\/themes\\/theme1\\/bg.png\",\"profile_background_tile\":false,\"profile_link_color\":\"1DA1F2\",\"profile_sidebar_border_color\":\"C0DEED\",\"profile_sidebar_fill_color\":\"DDEEF6\",\"profile_text_color\":\"333333\",\"profile_use_background_image\":true,\"profile_image_url\":\"http:\\/\\/pbs.twimg.com\\/profile_images\\/592332514942951424\\/VczuaJis_normal.jpg\",\"profile_image_url_https\":\"https:\\/\\/pbs.twimg.com\\/profile_images\\/592332514942951424\\/VczuaJis_normal.jpg\",\"profile_banner_url\":\"https:\\/\\/pbs.twimg.com\\/profile_banners\\/2947227167\\/1430167993\",\"default_profile\":true,\"default_profile_image\":false,\"following\":null,\"follow_request_sent\":null,\"notifications\":null},\"geo\":null,\"coordinates\":null,\"place\":null,\"contributors\":null,\"retweeted_status\":{\"created_at\":\"Fri May 26 19:12:35 +0000 2017\",\"id\":868183097933803521,\"id_str\":\"868183097933803521\",\"text\":\"Melania Trump's floral Dolce &amp; Gabbana coat costs $51K -- about the average U.S. household income\\u2026 https:\\/\\/t.co\\/sVJSXt1c1N\",\"display_text_range\":[0,140],\"source\":\"\\u003ca href=\\\"http:\\/\\/www.hootsuite.com\\\" rel=\\\"nofollow\\\"\\u003eHootsuite\\u003c\\/a\\u003e\",\"truncated\":true,\"in_reply_to_status_id\":null,\"in_reply_to_status_id_str\":null,\"in_reply_to_user_id\":null,\"in_reply_to_user_id_str\":null,\"in_reply_to_screen_name\":null,\"user\":{\"id\":15754281,\"id_str\":\"15754281\",\"name\":\"USA TODAY\",\"screen_name\":\"USATODAY\",\"location\":\"USA TODAY HQ, McLean, Va.\",\"url\":\"http:\\/\\/www.usatoday.com\",\"description\":\"The latest news and most interesting stories from USA TODAY. News that's meant to be shared.\",\"protected\":false,\"verified\":true,\"followers_count\":3336158,\"friends_count\":446,\"listed_count\":31325,\"favourites_count\":1720,\"statuses_count\":209362,\"created_at\":\"Wed Aug 06 19:55:31 +0000 2008\",\"utc_offset\":-14400,\"time_zone\":\"Eastern Time (US & Canada)\",\"geo_enabled\":false,\"lang\":\"en\",\"contributors_enabled\":false,\"is_translator\":false,\"profile_background_color\":\"0092D0\",\"profile_background_image_url\":\"http:\\/\\/pbs.twimg.com\\/profile_background_images\\/378800000089862470\\/7aa9f896147a89917aa047e30ab6ebc2.jpeg\",\"profile_background_image_url_https\":\"https:\\/\\/pbs.twimg.com\\/profile_background_images\\/378800000089862470\\/7aa9f896147a89917aa047e30ab6ebc2.jpeg\",\"profile_background_tile\":false,\"profile_link_color\":\"0000FF\",\"profile_sidebar_border_color\":\"FFFFFF\",\"profile_sidebar_fill_color\":\"FFFFFF\",\"profile_text_color\":\"000000\",\"profile_use_background_image\":false,\"profile_image_url\":\"http:\\/\\/pbs.twimg.com\\/profile_images\\/761954996808286209\\/S15RXwx6_normal.jpg\",\"profile_image_url_https\":\"https:\\/\\/pbs.twimg.com\\/profile_images\\/761954996808286209\\/S15RXwx6_normal.jpg\",\"profile_banner_url\":\"https:\\/\\/pbs.twimg.com\\/profile_banners\\/15754281\\/1453833768\",\"default_profile\":false,\"default_profile_image\":false,\"following\":null,\"follow_request_sent\":null,\"notifications\":null},\"geo\":null,\"coordinates\":null,\"place\":null,\"contributors\":null,\"is_quote_status\":false,\"extended_tweet\":{\"full_text\":\"Melania Trump's floral Dolce &amp; Gabbana coat costs $51K -- about the average U.S. household income https:\\/\\/t.co\\/Fhj5ofSjh5 (AFP photo) https:\\/\\/t.co\\/TTD16kWQRz\",\"display_text_range\":[0,137],\"entities\":{\"hashtags\":[],\"urls\":[{\"url\":\"https:\\/\\/t.co\\/Fhj5ofSjh5\",\"expanded_url\":\"https:\\/\\/usat.ly\\/2qs3BIl\",\"display_url\":\"usat.ly\\/2qs3BIl\",\"indices\":[102,125]}],\"user_mentions\":[],\"symbols\":[],\"media\":[{\"id\":868183096121753600,\"id_str\":\"868183096121753600\",\"indices\":[138,161],\"media_url\":\"http:\\/\\/pbs.twimg.com\\/media\\/DAxn7RRWAAA-psV.jpg\",\"media_url_https\":\"https:\\/\\/pbs.twimg.com\\/media\\/DAxn7RRWAAA-psV.jpg\",\"url\":\"https:\\/\\/t.co\\/TTD16kWQRz\",\"display_url\":\"pic.twitter.com\\/TTD16kWQRz\",\"expanded_url\":\"https:\\/\\/twitter.com\\/USATODAY\\/status\\/868183097933803521\\/photo\\/1\",\"type\":\"photo\",\"sizes\":{\"large\":{\"w\":520,\"h\":390,\"resize\":\"fit\"},\"thumb\":{\"w\":150,\"h\":150,\"resize\":\"crop\"},\"small\":{\"w\":520,\"h\":390,\"resize\":\"fit\"},\"medium\":{\"w\":520,\"h\":390,\"resize\":\"fit\"}}}]},\"extended_entities\":{\"media\":[{\"id\":868183096121753600,\"id_str\":\"868183096121753600\",\"indices\":[138,161],\"media_url\":\"http:\\/\\/pbs.twimg.com\\/media\\/DAxn7RRWAAA-psV.jpg\",\"media_url_https\":\"https:\\/\\/pbs.twimg.com\\/media\\/DAxn7RRWAAA-psV.jpg\",\"url\":\"https:\\/\\/t.co\\/TTD16kWQRz\",\"display_url\":\"pic.twitter.com\\/TTD16kWQRz\",\"expanded_url\":\"https:\\/\\/twitter.com\\/USATODAY\\/status\\/868183097933803521\\/photo\\/1\",\"type\":\"photo\",\"sizes\":{\"large\":{\"w\":520,\"h\":390,\"resize\":\"fit\"},\"thumb\":{\"w\":150,\"h\":150,\"resize\":\"crop\"},\"small\":{\"w\":520,\"h\":390,\"resize\":\"fit\"},\"medium\":{\"w\":520,\"h\":390,\"resize\":\"fit\"}}}]}},\"retweet_count\":61,\"favorite_count\":43,\"entities\":{\"hashtags\":[],\"urls\":[{\"url\":\"https:\\/\\/t.co\\/sVJSXt1c1N\",\"expanded_url\":\"https:\\/\\/twitter.com\\/i\\/web\\/status\\/868183097933803521\",\"display_url\":\"twitter.com\\/i\\/web\\/status\\/8\\u2026\",\"indices\":[103,126]}],\"user_mentions\":[],\"symbols\":[]},\"favorited\":false,\"retweeted\":false,\"possibly_sensitive\":false,\"filter_level\":\"low\",\"lang\":\"en\"},\"is_quote_status\":false,\"retweet_count\":0,\"favorite_count\":0,\"entities\":{\"hashtags\":[],\"urls\":[{\"url\":\"\",\"expanded_url\":null,\"indices\":[117,117]}],\"user_mentions\":[{\"screen_name\":\"USATODAY\",\"name\":\"USA TODAY\",\"id\":15754281,\"id_str\":\"15754281\",\"indices\":[3,12]}],\"symbols\":[]},\"favorited\":false,\"retweeted\":false,\"possibly_sensitive\":false,\"filter_level\":\"low\",\"lang\":\"en\",\"timestamp_ms\":\"1495826310377\"}\r",
      "\r\n",
      "{\"created_at\":\"Fri May 26 19:18:30 +0000 2017\",\"id\":868184586991349762,\"id_str\":\"868184586991349762\",\"text\":\"True example of a colossal asshole! https:\\/\\/t.co\\/bWN7CFLJet\",\"display_text_range\":[0,35],\"source\":\"\\u003ca href=\\\"http:\\/\\/twitter.com\\/#!\\/download\\/ipad\\\" rel=\\\"nofollow\\\"\\u003eTwitter for iPad\\u003c\\/a\\u003e\",\"truncated\":false,\"in_reply_to_status_id\":null,\"in_reply_to_status_id_str\":null,\"in_reply_to_user_id\":null,\"in_reply_to_user_id_str\":null,\"in_reply_to_screen_name\":null,\"user\":{\"id\":2275654504,\"id_str\":\"2275654504\",\"name\":\"michael schmidt\",\"screen_name\":\"michael21666665\",\"location\":\"Farmington, Mo.\",\"url\":\"http:\\/\\/pdqbusiness2015.com\",\"description\":\"Retired U.S. Marine Corps, Viet Nam vet, 4th stage Parkinson's disease. ordained minister.\",\"protected\":false,\"verified\":false,\"followers_count\":1481,\"friends_count\":3413,\"listed_count\":37,\"favourites_count\":7298,\"statuses_count\":14533,\"created_at\":\"Sat Jan 11 22:13:29 +0000 2014\",\"utc_offset\":-18000,\"time_zone\":\"America\\/Chicago\",\"geo_enabled\":false,\"lang\":\"en\",\"contributors_enabled\":false,\"is_translator\":false,\"profile_background_color\":\"BADFCD\",\"profile_background_image_url\":\"http:\\/\\/pbs.twimg.com\\/profile_background_images\\/459009048847736832\\/l3bejd6h.jpeg\",\"profile_background_image_url_https\":\"https:\\/\\/pbs.twimg.com\\/profile_background_images\\/459009048847736832\\/l3bejd6h.jpeg\",\"profile_background_tile\":false,\"profile_link_color\":\"3B94D9\",\"profile_sidebar_border_color\":\"FFFFFF\",\"profile_sidebar_fill_color\":\"252429\",\"profile_text_color\":\"666666\",\"profile_use_background_image\":true,\"profile_image_url\":\"http:\\/\\/pbs.twimg.com\\/profile_images\\/459005465356034048\\/_HzlXR43_normal.jpeg\",\"profile_image_url_https\":\"https:\\/\\/pbs.twimg.com\\/profile_images\\/459005465356034048\\/_HzlXR43_normal.jpeg\",\"profile_banner_url\":\"https:\\/\\/pbs.twimg.com\\/profile_banners\\/2275654504\\/1398270463\",\"default_profile\":false,\"default_profile_image\":false,\"following\":null,\"follow_request_sent\":null,\"notifications\":null},\"geo\":null,\"coordinates\":null,\"place\":null,\"contributors\":null,\"quoted_status_id\":867787233843085314,\"quoted_status_id_str\":\"867787233843085314\",\"quoted_status\":{\"created_at\":\"Thu May 25 16:59:33 +0000 2017\",\"id\":867787233843085314,\"id_str\":\"867787233843085314\",\"text\":\"Shake my head in disgust at Trump not only shoving the man but telling the woman to mind her own business\\ud83d\\udc47 Republic\\u2026 https:\\/\\/t.co\\/sm3QsVfn0J\",\"display_text_range\":[0,140],\"source\":\"\\u003ca href=\\\"http:\\/\\/twitter.com\\/download\\/android\\\" rel=\\\"nofollow\\\"\\u003eTwitter for Android\\u003c\\/a\\u003e\",\"truncated\":true,\"in_reply_to_status_id\":null,\"in_reply_to_status_id_str\":null,\"in_reply_to_user_id\":null,\"in_reply_to_user_id_str\":null,\"in_reply_to_screen_name\":null,\"user\":{\"id\":787314168219176960,\"id_str\":\"787314168219176960\",\"name\":\"Sally\\ud83d\\uddfdPerSister\\ud83c\\udf51\",\"screen_name\":\"TMDILL1\",\"location\":\"Georgia, USA\",\"url\":null,\"description\":\"#TheResistance #Progressive\\nThis democracy is worth the fight!\\nWhen they go low, we fight back!\\nWhen they go low, we vote!\\nWe are US!\",\"protected\":false,\"verified\":false,\"followers_count\":3671,\"friends_count\":3645,\"listed_count\":65,\"favourites_count\":39755,\"statuses_count\":85424,\"created_at\":\"Sat Oct 15 15:28:20 +0000 2016\",\"utc_offset\":null,\"time_zone\":null,\"geo_enabled\":false,\"lang\":\"en\",\"contributors_enabled\":false,\"is_translator\":false,\"profile_background_color\":\"F5F8FA\",\"profile_background_image_url\":\"\",\"profile_background_image_url_https\":\"\",\"profile_background_tile\":false,\"profile_link_color\":\"1DA1F2\",\"profile_sidebar_border_color\":\"C0DEED\",\"profile_sidebar_fill_color\":\"DDEEF6\",\"profile_text_color\":\"333333\",\"profile_use_background_image\":true,\"profile_image_url\":\"http:\\/\\/pbs.twimg.com\\/profile_images\\/863425294430068736\\/6jK7SN9s_normal.jpg\",\"profile_image_url_https\":\"https:\\/\\/pbs.twimg.com\\/profile_images\\/863425294430068736\\/6jK7SN9s_normal.jpg\",\"profile_banner_url\":\"https:\\/\\/pbs.twimg.com\\/profile_banners\\/787314168219176960\\/1495506869\",\"default_profile\":true,\"default_profile_image\":false,\"following\":null,\"follow_request_sent\":null,\"notifications\":null},\"geo\":null,\"coordinates\":null,\"place\":null,\"contributors\":null,\"quoted_status_id\":867786323100393472,\"quoted_status_id_str\":\"867786323100393472\",\"is_quote_status\":true,\"extended_tweet\":{\"full_text\":\"Shake my head in disgust at Trump not only shoving the man but telling the woman to mind her own business\\ud83d\\udc47 Republicans @GOP this is on You! https:\\/\\/t.co\\/5HT4uXn3Qy\",\"display_text_range\":[0,139],\"entities\":{\"hashtags\":[],\"urls\":[{\"url\":\"https:\\/\\/t.co\\/5HT4uXn3Qy\",\"expanded_url\":\"https:\\/\\/twitter.com\\/LawyerRogelio\\/status\\/867786323100393472\",\"display_url\":\"twitter.com\\/LawyerRogelio\\/\\u2026\",\"indices\":[140,163]}],\"user_mentions\":[{\"screen_name\":\"GOP\",\"name\":\"GOP\",\"id\":11134252,\"id_str\":\"11134252\",\"indices\":[119,123]}],\"symbols\":[]}},\"retweet_count\":58,\"favorite_count\":71,\"entities\":{\"hashtags\":[],\"urls\":[{\"url\":\"https:\\/\\/t.co\\/sm3QsVfn0J\",\"expanded_url\":\"https:\\/\\/twitter.com\\/i\\/web\\/status\\/867787233843085314\",\"display_url\":\"twitter.com\\/i\\/web\\/status\\/8\\u2026\",\"indices\":[117,140]}],\"user_mentions\":[],\"symbols\":[]},\"favorited\":false,\"retweeted\":false,\"possibly_sensitive\":false,\"filter_level\":\"low\",\"lang\":\"en\"},\"is_quote_status\":true,\"retweet_count\":0,\"favorite_count\":0,\"entities\":{\"hashtags\":[],\"urls\":[{\"url\":\"https:\\/\\/t.co\\/bWN7CFLJet\",\"expanded_url\":\"https:\\/\\/twitter.com\\/tmdill1\\/status\\/867787233843085314\",\"display_url\":\"twitter.com\\/tmdill1\\/status\\u2026\",\"indices\":[36,59]}],\"user_mentions\":[],\"symbols\":[]},\"favorited\":false,\"retweeted\":false,\"possibly_sensitive\":false,\"filter_level\":\"low\",\"lang\":\"en\",\"timestamp_ms\":\"1495826310285\"}\r",
      "\r\n",
      "{\"created_at\":\"Fri May 26 19:18:30 +0000 2017\",\"id\":868184587213709314,\"id_str\":\"868184587213709314\",\"text\":\"RT @Max_Fisher: During Trump's first trip abroad, the US has had crises with:\\n1. Israel\\n2. Britain\\n3. Germany\\n4. All of NATO\\n\\nThis is unpre\\u2026\",\"source\":\"\\u003ca href=\\\"http:\\/\\/twitter.com\\/#!\\/download\\/ipad\\\" rel=\\\"nofollow\\\"\\u003eTwitter for iPad\\u003c\\/a\\u003e\",\"truncated\":false,\"in_reply_to_status_id\":null,\"in_reply_to_status_id_str\":null,\"in_reply_to_user_id\":null,\"in_reply_to_user_id_str\":null,\"in_reply_to_screen_name\":null,\"user\":{\"id\":1049212730,\"id_str\":\"1049212730\",\"name\":\"Karen Swope\",\"screen_name\":\"AndthenIsleep\",\"location\":\"She believed she could...\",\"url\":null,\"description\":\"The single greatest threat to the National Security of the United States is its president. C. Taylor #TrumpLeaks\",\"protected\":false,\"verified\":false,\"followers_count\":6220,\"friends_count\":2490,\"listed_count\":262,\"favourites_count\":9473,\"statuses_count\":46583,\"created_at\":\"Mon Dec 31 01:29:56 +0000 2012\",\"utc_offset\":-36000,\"time_zone\":\"Hawaii\",\"geo_enabled\":false,\"lang\":\"en\",\"contributors_enabled\":false,\"is_translator\":false,\"profile_background_color\":\"1A1B1F\",\"profile_background_image_url\":\"http:\\/\\/pbs.twimg.com\\/profile_background_images\\/826330197\\/099ec1ca8f472d71a2c065185ac70776.jpeg\",\"profile_background_image_url_https\":\"https:\\/\\/pbs.twimg.com\\/profile_background_images\\/826330197\\/099ec1ca8f472d71a2c065185ac70776.jpeg\",\"profile_background_tile\":false,\"profile_link_color\":\"2F55ED\",\"profile_sidebar_border_color\":\"FFFFFF\",\"profile_sidebar_fill_color\":\"99CC33\",\"profile_text_color\":\"3E4415\",\"profile_use_background_image\":true,\"profile_image_url\":\"http:\\/\\/pbs.twimg.com\\/profile_images\\/861743029635383296\\/E5JfFTty_normal.jpg\",\"profile_image_url_https\":\"https:\\/\\/pbs.twimg.com\\/profile_images\\/861743029635383296\\/E5JfFTty_normal.jpg\",\"profile_banner_url\":\"https:\\/\\/pbs.twimg.com\\/profile_banners\\/1049212730\\/1495341261\",\"default_profile\":false,\"default_profile_image\":false,\"following\":null,\"follow_request_sent\":null,\"notifications\":null},\"geo\":null,\"coordinates\":null,\"place\":null,\"contributors\":null,\"retweeted_status\":{\"created_at\":\"Thu May 25 22:05:12 +0000 2017\",\"id\":867864150172741633,\"id_str\":\"867864150172741633\",\"text\":\"During Trump's first trip abroad, the US has had crises with:\\n1. Israel\\n2. Britain\\n3. Germany\\n4. All of NATO\\n\\nThis is unprecedented.\",\"source\":\"\\u003ca href=\\\"http:\\/\\/twitter.com\\\" rel=\\\"nofollow\\\"\\u003eTwitter Web Client\\u003c\\/a\\u003e\",\"truncated\":false,\"in_reply_to_status_id\":null,\"in_reply_to_status_id_str\":null,\"in_reply_to_user_id\":null,\"in_reply_to_user_id_str\":null,\"in_reply_to_screen_name\":null,\"user\":{\"id\":17060020,\"id_str\":\"17060020\",\"name\":\"Max Fisher\",\"screen_name\":\"Max_Fisher\",\"location\":\"Washington, DC\",\"url\":\"http:\\/\\/www.nytimes.com\\/column\\/the-interpreter\",\"description\":\"Editor and writer @nytimes for The Interpreter, a column exploring the ideas and context behind major world events.\",\"protected\":false,\"verified\":true,\"followers_count\":105368,\"friends_count\":729,\"listed_count\":3987,\"favourites_count\":7721,\"statuses_count\":525,\"created_at\":\"Thu Oct 30 04:30:12 +0000 2008\",\"utc_offset\":-18000,\"time_zone\":\"Quito\",\"geo_enabled\":false,\"lang\":\"en\",\"contributors_enabled\":false,\"is_translator\":false,\"profile_background_color\":\"FFFFFF\",\"profile_background_image_url\":\"http:\\/\\/pbs.twimg.com\\/profile_background_images\\/457075869\\/ai-urn02.jpg\",\"profile_background_image_url_https\":\"https:\\/\\/pbs.twimg.com\\/profile_background_images\\/457075869\\/ai-urn02.jpg\",\"profile_background_tile\":true,\"profile_link_color\":\"E0000D\",\"profile_sidebar_border_color\":\"BDDCAD\",\"profile_sidebar_fill_color\":\"C6CAEB\",\"profile_text_color\":\"565856\",\"profile_use_background_image\":true,\"profile_image_url\":\"http:\\/\\/pbs.twimg.com\\/profile_images\\/840086021379317760\\/I7-3vfxX_normal.jpg\",\"profile_image_url_https\":\"https:\\/\\/pbs.twimg.com\\/profile_images\\/840086021379317760\\/I7-3vfxX_normal.jpg\",\"profile_banner_url\":\"https:\\/\\/pbs.twimg.com\\/profile_banners\\/17060020\\/1480992137\",\"default_profile\":false,\"default_profile_image\":false,\"following\":null,\"follow_request_sent\":null,\"notifications\":null},\"geo\":null,\"coordinates\":null,\"place\":null,\"contributors\":null,\"is_quote_status\":false,\"retweet_count\":3211,\"favorite_count\":5417,\"entities\":{\"hashtags\":[],\"urls\":[],\"user_mentions\":[],\"symbols\":[]},\"favorited\":false,\"retweeted\":false,\"filter_level\":\"low\",\"lang\":\"en\"},\"is_quote_status\":false,\"retweet_count\":0,\"favorite_count\":0,\"entities\":{\"hashtags\":[],\"urls\":[],\"user_mentions\":[{\"screen_name\":\"Max_Fisher\",\"name\":\"Max Fisher\",\"id\":17060020,\"id_str\":\"17060020\",\"indices\":[3,14]}],\"symbols\":[]},\"favorited\":false,\"retweeted\":false,\"filter_level\":\"low\",\"lang\":\"en\",\"timestamp_ms\":\"1495826310338\"}\r",
      "\r\n",
      "{\"created_at\":\"Fri May 26 19:18:30 +0000 2017\",\"id\":868184587515478016,\"id_str\":\"868184587515478016\",\"text\":\"RT @fakegreatdane: There's an entire section of Americans who have no respect for anyone, including Europeans. Trump is but one of the\\u2026 \",\"source\":\"\\u003ca href=\\\"http:\\/\\/twitter.com\\/download\\/iphone\\\" rel=\\\"nofollow\\\"\\u003eTwitter for iPhone\\u003c\\/a\\u003e\",\"truncated\":false,\"in_reply_to_status_id\":null,\"in_reply_to_status_id_str\":null,\"in_reply_to_user_id\":null,\"in_reply_to_user_id_str\":null,\"in_reply_to_screen_name\":null,\"user\":{\"id\":295550991,\"id_str\":\"295550991\",\"name\":\"fight4whatsright\\ud83e\\udd4a\\ud83e\\udd4a\",\"screen_name\":\"cpcla12\",\"location\":\"\\u2600\\ufe0f California, USA\",\"url\":null,\"description\":\"I Love America & #Fight4WhatsRight-an INCLUSIVE nation 4 ALL - Promote the http:\\/\\/VOTE.org & Call ur Capitol 202-224-3121 Open 24\\/7 Note: No mincing words! \\u274c\",\"protected\":false,\"verified\":false,\"followers_count\":391,\"friends_count\":444,\"listed_count\":1,\"favourites_count\":9947,\"statuses_count\":11496,\"created_at\":\"Mon May 09 07:38:30 +0000 2011\",\"utc_offset\":null,\"time_zone\":null,\"geo_enabled\":true,\"lang\":\"en\",\"contributors_enabled\":false,\"is_translator\":false,\"profile_background_color\":\"C0DEED\",\"profile_background_image_url\":\"http:\\/\\/abs.twimg.com\\/images\\/themes\\/theme1\\/bg.png\",\"profile_background_image_url_https\":\"https:\\/\\/abs.twimg.com\\/images\\/themes\\/theme1\\/bg.png\",\"profile_background_tile\":false,\"profile_link_color\":\"1DA1F2\",\"profile_sidebar_border_color\":\"C0DEED\",\"profile_sidebar_fill_color\":\"DDEEF6\",\"profile_text_color\":\"333333\",\"profile_use_background_image\":true,\"profile_image_url\":\"http:\\/\\/pbs.twimg.com\\/profile_images\\/865705554315886592\\/IZAWYywK_normal.jpg\",\"profile_image_url_https\":\"https:\\/\\/pbs.twimg.com\\/profile_images\\/865705554315886592\\/IZAWYywK_normal.jpg\",\"profile_banner_url\":\"https:\\/\\/pbs.twimg.com\\/profile_banners\\/295550991\\/1495507756\",\"default_profile\":true,\"default_profile_image\":false,\"following\":null,\"follow_request_sent\":null,\"notifications\":null},\"geo\":null,\"coordinates\":null,\"place\":null,\"contributors\":null,\"retweeted_status\":{\"created_at\":\"Fri May 26 19:02:06 +0000 2017\",\"id\":868180458772865024,\"id_str\":\"868180458772865024\",\"text\":\"There's an entire section of Americans who have no respect for anyone, including Europeans. Trump is but one of the\\u2026 https:\\/\\/t.co\\/eVVBWMHj75\",\"display_text_range\":[0,140],\"source\":\"\\u003ca href=\\\"http:\\/\\/twitter.com\\/download\\/android\\\" rel=\\\"nofollow\\\"\\u003eTwitter for Android\\u003c\\/a\\u003e\",\"truncated\":true,\"in_reply_to_status_id\":null,\"in_reply_to_status_id_str\":null,\"in_reply_to_user_id\":null,\"in_reply_to_user_id_str\":null,\"in_reply_to_screen_name\":null,\"user\":{\"id\":848718314943762432,\"id_str\":\"848718314943762432\",\"name\":\"Susse\",\"screen_name\":\"fakegreatdane\",\"location\":\"The Great White North\",\"url\":null,\"description\":\"Secular, music loving humanist, engaging in world  with open mind, appreciating anyone presenting cogent argument in favour of their beliefs.\",\"protected\":false,\"verified\":false,\"followers_count\":123,\"friends_count\":288,\"listed_count\":2,\"favourites_count\":7240,\"statuses_count\":2187,\"created_at\":\"Mon Apr 03 02:06:29 +0000 2017\",\"utc_offset\":null,\"time_zone\":null,\"geo_enabled\":false,\"lang\":\"en\",\"contributors_enabled\":false,\"is_translator\":false,\"profile_background_color\":\"F5F8FA\",\"profile_background_image_url\":\"\",\"profile_background_image_url_https\":\"\",\"profile_background_tile\":false,\"profile_link_color\":\"1DA1F2\",\"profile_sidebar_border_color\":\"C0DEED\",\"profile_sidebar_fill_color\":\"DDEEF6\",\"profile_text_color\":\"333333\",\"profile_use_background_image\":true,\"profile_image_url\":\"http:\\/\\/pbs.twimg.com\\/profile_images\\/850218999388356608\\/7b3MgbQX_normal.jpg\",\"profile_image_url_https\":\"https:\\/\\/pbs.twimg.com\\/profile_images\\/850218999388356608\\/7b3MgbQX_normal.jpg\",\"default_profile\":true,\"default_profile_image\":false,\"following\":null,\"follow_request_sent\":null,\"notifications\":null},\"geo\":null,\"coordinates\":null,\"place\":null,\"contributors\":null,\"quoted_status_id\":867894202709020672,\"quoted_status_id_str\":\"867894202709020672\",\"quoted_status\":{\"created_at\":\"Fri May 26 00:04:37 +0000 2017\",\"id\":867894202709020672,\"id_str\":\"867894202709020672\",\"text\":\"I'm deeply disgusted by how Trump treats the leaders of my European neighbours.\\n\\nIt actually sickens me. He has no respect for us.\",\"source\":\"\\u003ca href=\\\"http:\\/\\/twitter.com\\/download\\/iphone\\\" rel=\\\"nofollow\\\"\\u003eTwitter for iPhone\\u003c\\/a\\u003e\",\"truncated\":false,\"in_reply_to_status_id\":null,\"in_reply_to_status_id_str\":null,\"in_reply_to_user_id\":null,\"in_reply_to_user_id_str\":null,\"in_reply_to_screen_name\":null,\"user\":{\"id\":265197860,\"id_str\":\"265197860\",\"name\":\"Aaron Vallely\",\"screen_name\":\"Vallmeister\",\"location\":\"Dublin | New York City |\",\"url\":\"http:\\/\\/m.huffpost.com\\/uk\\/author\\/aaron-vallely\\/\",\"description\":\"Writer | Activist | Pop Culture Connoisseur | @HuffPost & @PasteMagazine Contributor |\",\"protected\":false,\"verified\":true,\"followers_count\":40239,\"friends_count\":9291,\"listed_count\":392,\"favourites_count\":164386,\"statuses_count\":40709,\"created_at\":\"Sun Mar 13 05:00:57 +0000 2011\",\"utc_offset\":-25200,\"time_zone\":\"Pacific Time (US & Canada)\",\"geo_enabled\":false,\"lang\":\"en\",\"contributors_enabled\":false,\"is_translator\":false,\"profile_background_color\":\"000000\",\"profile_background_image_url\":\"http:\\/\\/abs.twimg.com\\/images\\/themes\\/theme19\\/bg.gif\",\"profile_background_image_url_https\":\"https:\\/\\/abs.twimg.com\\/images\\/themes\\/theme19\\/bg.gif\",\"profile_background_tile\":false,\"profile_link_color\":\"0099CC\",\"profile_sidebar_border_color\":\"000000\",\"profile_sidebar_fill_color\":\"000000\",\"profile_text_color\":\"000000\",\"profile_use_background_image\":false,\"profile_image_url\":\"http:\\/\\/pbs.twimg.com\\/profile_images\\/842242128277319681\\/IQd7q9j0_normal.jpg\",\"profile_image_url_https\":\"https:\\/\\/pbs.twimg.com\\/profile_images\\/842242128277319681\\/IQd7q9j0_normal.jpg\",\"profile_banner_url\":\"https:\\/\\/pbs.twimg.com\\/profile_banners\\/265197860\\/1495332012\",\"default_profile\":false,\"default_profile_image\":false,\"following\":null,\"follow_request_sent\":null,\"notifications\":null},\"geo\":null,\"coordinates\":null,\"place\":null,\"contributors\":null,\"is_quote_status\":false,\"retweet_count\":264,\"favorite_count\":874,\"entities\":{\"hashtags\":[],\"urls\":[],\"user_mentions\":[],\"symbols\":[]},\"favorited\":false,\"retweeted\":false,\"filter_level\":\"low\",\"lang\":\"en\"},\"is_quote_status\":true,\"extended_tweet\":{\"full_text\":\"There's an entire section of Americans who have no respect for anyone, including Europeans. Trump is but one of them. https:\\/\\/t.co\\/y52shlmyle\",\"display_text_range\":[0,117],\"entities\":{\"hashtags\":[],\"urls\":[{\"url\":\"https:\\/\\/t.co\\/y52shlmyle\",\"expanded_url\":\"https:\\/\\/twitter.com\\/Vallmeister\\/status\\/867894202709020672\",\"display_url\":\"twitter.com\\/Vallmeister\\/st\\u2026\",\"indices\":[118,141]}],\"user_mentions\":[],\"symbols\":[]}},\"retweet_count\":1,\"favorite_count\":1,\"entities\":{\"hashtags\":[],\"urls\":[{\"url\":\"https:\\/\\/t.co\\/eVVBWMHj75\",\"expanded_url\":\"https:\\/\\/twitter.com\\/i\\/web\\/status\\/868180458772865024\",\"display_url\":\"twitter.com\\/i\\/web\\/status\\/8\\u2026\",\"indices\":[117,140]}],\"user_mentions\":[],\"symbols\":[]},\"favorited\":false,\"retweeted\":false,\"possibly_sensitive\":false,\"filter_level\":\"low\",\"lang\":\"en\"},\"quoted_status_id\":867894202709020672,\"quoted_status_id_str\":\"867894202709020672\",\"quoted_status\":{\"created_at\":\"Fri May 26 00:04:37 +0000 2017\",\"id\":867894202709020672,\"id_str\":\"867894202709020672\",\"text\":\"I'm deeply disgusted by how Trump treats the leaders of my European neighbours.\\n\\nIt actually sickens me. He has no respect for us.\",\"source\":\"\\u003ca href=\\\"http:\\/\\/twitter.com\\/download\\/iphone\\\" rel=\\\"nofollow\\\"\\u003eTwitter for iPhone\\u003c\\/a\\u003e\",\"truncated\":false,\"in_reply_to_status_id\":null,\"in_reply_to_status_id_str\":null,\"in_reply_to_user_id\":null,\"in_reply_to_user_id_str\":null,\"in_reply_to_screen_name\":null,\"user\":{\"id\":265197860,\"id_str\":\"265197860\",\"name\":\"Aaron Vallely\",\"screen_name\":\"Vallmeister\",\"location\":\"Dublin | New York City |\",\"url\":\"http:\\/\\/m.huffpost.com\\/uk\\/author\\/aaron-vallely\\/\",\"description\":\"Writer | Activist | Pop Culture Connoisseur | @HuffPost & @PasteMagazine Contributor |\",\"protected\":false,\"verified\":true,\"followers_count\":40239,\"friends_count\":9291,\"listed_count\":392,\"favourites_count\":164386,\"statuses_count\":40709,\"created_at\":\"Sun Mar 13 05:00:57 +0000 2011\",\"utc_offset\":-25200,\"time_zone\":\"Pacific Time (US & Canada)\",\"geo_enabled\":false,\"lang\":\"en\",\"contributors_enabled\":false,\"is_translator\":false,\"profile_background_color\":\"000000\",\"profile_background_image_url\":\"http:\\/\\/abs.twimg.com\\/images\\/themes\\/theme19\\/bg.gif\",\"profile_background_image_url_https\":\"https:\\/\\/abs.twimg.com\\/images\\/themes\\/theme19\\/bg.gif\",\"profile_background_tile\":false,\"profile_link_color\":\"0099CC\",\"profile_sidebar_border_color\":\"000000\",\"profile_sidebar_fill_color\":\"000000\",\"profile_text_color\":\"000000\",\"profile_use_background_image\":false,\"profile_image_url\":\"http:\\/\\/pbs.twimg.com\\/profile_images\\/842242128277319681\\/IQd7q9j0_normal.jpg\",\"profile_image_url_https\":\"https:\\/\\/pbs.twimg.com\\/profile_images\\/842242128277319681\\/IQd7q9j0_normal.jpg\",\"profile_banner_url\":\"https:\\/\\/pbs.twimg.com\\/profile_banners\\/265197860\\/1495332012\",\"default_profile\":false,\"default_profile_image\":false,\"following\":null,\"follow_request_sent\":null,\"notifications\":null},\"geo\":null,\"coordinates\":null,\"place\":null,\"contributors\":null,\"is_quote_status\":false,\"retweet_count\":264,\"favorite_count\":874,\"entities\":{\"hashtags\":[],\"urls\":[],\"user_mentions\":[],\"symbols\":[]},\"favorited\":false,\"retweeted\":false,\"filter_level\":\"low\",\"lang\":\"en\"},\"is_quote_status\":true,\"retweet_count\":0,\"favorite_count\":0,\"entities\":{\"hashtags\":[],\"urls\":[{\"url\":\"\",\"expanded_url\":null,\"indices\":[136,136]}],\"user_mentions\":[{\"screen_name\":\"fakegreatdane\",\"name\":\"Susse\",\"id\":848718314943762432,\"id_str\":\"848718314943762432\",\"indices\":[3,17]}],\"symbols\":[]},\"favorited\":false,\"retweeted\":false,\"filter_level\":\"low\",\"lang\":\"en\",\"timestamp_ms\":\"1495826310410\"}\r",
      "\r\n",
      "{\"created_at\":\"Fri May 26 19:18:30 +0000 2017\",\"id\":868184587221991424,\"id_str\":\"868184587221991424\",\"text\":\"RT @tffsphil: if donald trump wins i will send everyone who rt's this a chair and a rope\",\"source\":\"\\u003ca href=\\\"http:\\/\\/twitter.com\\\" rel=\\\"nofollow\\\"\\u003eTwitter Web Client\\u003c\\/a\\u003e\",\"truncated\":false,\"in_reply_to_status_id\":null,\"in_reply_to_status_id_str\":null,\"in_reply_to_user_id\":null,\"in_reply_to_user_id_str\":null,\"in_reply_to_screen_name\":null,\"user\":{\"id\":851128051119398912,\"id_str\":\"851128051119398912\",\"name\":\"Amelia Johnston\",\"screen_name\":\"iSroXeULnakDFyT\",\"location\":null,\"url\":null,\"description\":null,\"protected\":false,\"verified\":false,\"followers_count\":17,\"friends_count\":86,\"listed_count\":0,\"favourites_count\":724,\"statuses_count\":779,\"created_at\":\"Sun Apr 09 17:41:55 +0000 2017\",\"utc_offset\":null,\"time_zone\":null,\"geo_enabled\":false,\"lang\":\"ru\",\"contributors_enabled\":false,\"is_translator\":false,\"profile_background_color\":\"F5F8FA\",\"profile_background_image_url\":\"\",\"profile_background_image_url_https\":\"\",\"profile_background_tile\":false,\"profile_link_color\":\"1DA1F2\",\"profile_sidebar_border_color\":\"C0DEED\",\"profile_sidebar_fill_color\":\"DDEEF6\",\"profile_text_color\":\"333333\",\"profile_use_background_image\":true,\"profile_image_url\":\"http:\\/\\/pbs.twimg.com\\/profile_images\\/857239726503350273\\/3OizIYJo_normal.jpg\",\"profile_image_url_https\":\"https:\\/\\/pbs.twimg.com\\/profile_images\\/857239726503350273\\/3OizIYJo_normal.jpg\",\"default_profile\":true,\"default_profile_image\":false,\"following\":null,\"follow_request_sent\":null,\"notifications\":null},\"geo\":null,\"coordinates\":null,\"place\":null,\"contributors\":null,\"retweeted_status\":{\"created_at\":\"Wed Nov 09 00:22:36 +0000 2016\",\"id\":796145931561353220,\"id_str\":\"796145931561353220\",\"text\":\"if donald trump wins i will send everyone who rt's this a chair and a rope\",\"source\":\"\\u003ca href=\\\"http:\\/\\/twitter.com\\/download\\/iphone\\\" rel=\\\"nofollow\\\"\\u003eTwitter for iPhone\\u003c\\/a\\u003e\",\"truncated\":false,\"in_reply_to_status_id\":null,\"in_reply_to_status_id_str\":null,\"in_reply_to_user_id\":null,\"in_reply_to_user_id_str\":null,\"in_reply_to_screen_name\":null,\"user\":{\"id\":708828675379167233,\"id_str\":\"708828675379167233\",\"name\":\"tffs\",\"screen_name\":\"tffsphil\",\"location\":null,\"url\":null,\"description\":null,\"protected\":false,\"verified\":false,\"followers_count\":980,\"friends_count\":131,\"listed_count\":13,\"favourites_count\":154,\"statuses_count\":2992,\"created_at\":\"Sun Mar 13 01:35:00 +0000 2016\",\"utc_offset\":-25200,\"time_zone\":\"Pacific Time (US & Canada)\",\"geo_enabled\":false,\"lang\":\"en\",\"contributors_enabled\":false,\"is_translator\":false,\"profile_background_color\":\"F5F8FA\",\"profile_background_image_url\":\"\",\"profile_background_image_url_https\":\"\",\"profile_background_tile\":false,\"profile_link_color\":\"1DA1F2\",\"profile_sidebar_border_color\":\"C0DEED\",\"profile_sidebar_fill_color\":\"DDEEF6\",\"profile_text_color\":\"333333\",\"profile_use_background_image\":true,\"profile_image_url\":\"http:\\/\\/pbs.twimg.com\\/profile_images\\/823212304867196931\\/Aj-8uuwP_normal.jpg\",\"profile_image_url_https\":\"https:\\/\\/pbs.twimg.com\\/profile_images\\/823212304867196931\\/Aj-8uuwP_normal.jpg\",\"profile_banner_url\":\"https:\\/\\/pbs.twimg.com\\/profile_banners\\/708828675379167233\\/1477235471\",\"default_profile\":true,\"default_profile_image\":false,\"following\":null,\"follow_request_sent\":null,\"notifications\":null},\"geo\":null,\"coordinates\":null,\"place\":null,\"contributors\":null,\"is_quote_status\":false,\"retweet_count\":1018,\"favorite_count\":588,\"entities\":{\"hashtags\":[],\"urls\":[],\"user_mentions\":[],\"symbols\":[]},\"favorited\":false,\"retweeted\":false,\"filter_level\":\"low\",\"lang\":\"en\"},\"is_quote_status\":false,\"retweet_count\":0,\"favorite_count\":0,\"entities\":{\"hashtags\":[],\"urls\":[],\"user_mentions\":[{\"screen_name\":\"tffsphil\",\"name\":\"tffs\",\"id\":708828675379167233,\"id_str\":\"708828675379167233\",\"indices\":[3,12]}],\"symbols\":[]},\"favorited\":false,\"retweeted\":false,\"filter_level\":\"low\",\"lang\":\"en\",\"timestamp_ms\":\"1495826310340\"}\r",
      "\r\n",
      "{\"created_at\":\"Fri May 26 19:18:30 +0000 2017\",\"id\":868184587624730624,\"id_str\":\"868184587624730624\",\"text\":\"@boggywood Merkle is unreal. Trump clearing Syria. Putin ok with return of migrants. What will Merkel  say?\",\"display_text_range\":[11,107],\"source\":\"\\u003ca href=\\\"http:\\/\\/twitter.com\\/download\\/iphone\\\" rel=\\\"nofollow\\\"\\u003eTwitter for iPhone\\u003c\\/a\\u003e\",\"truncated\":false,\"in_reply_to_status_id\":868181946391830529,\"in_reply_to_status_id_str\":\"868181946391830529\",\"in_reply_to_user_id\":128861308,\"in_reply_to_user_id_str\":\"128861308\",\"in_reply_to_screen_name\":\"boggywood\",\"user\":{\"id\":2453605819,\"id_str\":\"2453605819\",\"name\":\"Cherry Bethea\",\"screen_name\":\"cherry_bethea\",\"location\":\"California\",\"url\":null,\"description\":\"On the road for Trump! Retired teacher, passion for politics, active in local political scene.\",\"protected\":false,\"verified\":false,\"followers_count\":1629,\"friends_count\":1723,\"listed_count\":62,\"favourites_count\":305,\"statuses_count\":56163,\"created_at\":\"Sat Apr 19 19:24:57 +0000 2014\",\"utc_offset\":null,\"time_zone\":null,\"geo_enabled\":true,\"lang\":\"en\",\"contributors_enabled\":false,\"is_translator\":false,\"profile_background_color\":\"C0DEED\",\"profile_background_image_url\":\"http:\\/\\/abs.twimg.com\\/images\\/themes\\/theme1\\/bg.png\",\"profile_background_image_url_https\":\"https:\\/\\/abs.twimg.com\\/images\\/themes\\/theme1\\/bg.png\",\"profile_background_tile\":false,\"profile_link_color\":\"1DA1F2\",\"profile_sidebar_border_color\":\"C0DEED\",\"profile_sidebar_fill_color\":\"DDEEF6\",\"profile_text_color\":\"333333\",\"profile_use_background_image\":true,\"profile_image_url\":\"http:\\/\\/pbs.twimg.com\\/profile_images\\/829033234797260800\\/RU0-00tC_normal.jpg\",\"profile_image_url_https\":\"https:\\/\\/pbs.twimg.com\\/profile_images\\/829033234797260800\\/RU0-00tC_normal.jpg\",\"profile_banner_url\":\"https:\\/\\/pbs.twimg.com\\/profile_banners\\/2453605819\\/1491777683\",\"default_profile\":true,\"default_profile_image\":false,\"following\":null,\"follow_request_sent\":null,\"notifications\":null},\"geo\":null,\"coordinates\":null,\"place\":null,\"contributors\":null,\"is_quote_status\":false,\"retweet_count\":0,\"favorite_count\":0,\"entities\":{\"hashtags\":[],\"urls\":[],\"user_mentions\":[{\"screen_name\":\"boggywood\",\"name\":\"Helen o'D\",\"id\":128861308,\"id_str\":\"128861308\",\"indices\":[0,10]}],\"symbols\":[]},\"favorited\":false,\"retweeted\":false,\"filter_level\":\"low\",\"lang\":\"en\",\"timestamp_ms\":\"1495826310436\"}\r",
      "\r\n",
      "{\"created_at\":\"Fri May 26 19:18:30 +0000 2017\",\"id\":868184588157321216,\"id_str\":\"868184588157321216\",\"text\":\"RT @MaximeHaes: MAGNIFIQUE.\\n\\nRegardez Trump ouvrant ses bras pour accueillir Macron avant qu'il l'esquive \\u00e0 la derni\\u00e8re seconde \\ud83d\\ude2d\\u2764\\ufe0f.\\nhttps:\\u2026\",\"source\":\"\\u003ca href=\\\"http:\\/\\/twitter.com\\/download\\/iphone\\\" rel=\\\"nofollow\\\"\\u003eTwitter for iPhone\\u003c\\/a\\u003e\",\"truncated\":false,\"in_reply_to_status_id\":null,\"in_reply_to_status_id_str\":null,\"in_reply_to_user_id\":null,\"in_reply_to_user_id_str\":null,\"in_reply_to_screen_name\":null,\"user\":{\"id\":303923565,\"id_str\":\"303923565\",\"name\":\"Pumpkin. \\u2756 \\ud83d\\udd31\",\"screen_name\":\"psychoticharls\",\"location\":\"Space\",\"url\":\"https:\\/\\/www.facebook.com\\/eleahphoto\\/\",\"description\":\"| My heart scares you and a gun doesn't. | Echelon. Whovian. Harley. Slytherin. Aquaman. Mera. Cosplayeuse. | Un peu trop fan de cactus. | 17.02.14 |\",\"protected\":false,\"verified\":false,\"followers_count\":1190,\"friends_count\":375,\"listed_count\":52,\"favourites_count\":5346,\"statuses_count\":93635,\"created_at\":\"Mon May 23 16:57:34 +0000 2011\",\"utc_offset\":7200,\"time_zone\":\"Paris\",\"geo_enabled\":false,\"lang\":\"en\",\"contributors_enabled\":false,\"is_translator\":false,\"profile_background_color\":\"FFFFFF\",\"profile_background_image_url\":\"http:\\/\\/pbs.twimg.com\\/profile_background_images\\/433300254314614785\\/GHeLy86I.jpeg\",\"profile_background_image_url_https\":\"https:\\/\\/pbs.twimg.com\\/profile_background_images\\/433300254314614785\\/GHeLy86I.jpeg\",\"profile_background_tile\":true,\"profile_link_color\":\"D6AFAF\",\"profile_sidebar_border_color\":\"FFFFFF\",\"profile_sidebar_fill_color\":\"E5CEBC\",\"profile_text_color\":\"4E757A\",\"profile_use_background_image\":true,\"profile_image_url\":\"http:\\/\\/pbs.twimg.com\\/profile_images\\/862680562322092032\\/k0kac0L1_normal.jpg\",\"profile_image_url_https\":\"https:\\/\\/pbs.twimg.com\\/profile_images\\/862680562322092032\\/k0kac0L1_normal.jpg\",\"profile_banner_url\":\"https:\\/\\/pbs.twimg.com\\/profile_banners\\/303923565\\/1492899286\",\"default_profile\":false,\"default_profile_image\":false,\"following\":null,\"follow_request_sent\":null,\"notifications\":null},\"geo\":null,\"coordinates\":null,\"place\":null,\"contributors\":null,\"retweeted_status\":{\"created_at\":\"Thu May 25 23:19:32 +0000 2017\",\"id\":867882858429526018,\"id_str\":\"867882858429526018\",\"text\":\"MAGNIFIQUE.\\n\\nRegardez Trump ouvrant ses bras pour accueillir Macron avant qu'il l'esquive \\u00e0 la derni\\u00e8re seconde \\ud83d\\ude2d\\u2764\\ufe0f.\\nhttps:\\/\\/t.co\\/n7n1uSj5kZ\",\"source\":\"\\u003ca href=\\\"http:\\/\\/twitter.com\\/download\\/iphone\\\" rel=\\\"nofollow\\\"\\u003eTwitter for iPhone\\u003c\\/a\\u003e\",\"truncated\":false,\"in_reply_to_status_id\":null,\"in_reply_to_status_id_str\":null,\"in_reply_to_user_id\":null,\"in_reply_to_user_id_str\":null,\"in_reply_to_screen_name\":null,\"user\":{\"id\":155721492,\"id_str\":\"155721492\",\"name\":\"Max \\ud83e\\udd81\",\"screen_name\":\"MaximeHaes\",\"location\":\"Paris - New York\",\"url\":\"http:\\/\\/radio-londres.fr\\/author\\/maximehaes\\/\",\"description\":\"Je blablate dans @RadioLondres_Fr\",\"protected\":false,\"verified\":false,\"followers_count\":10599,\"friends_count\":476,\"listed_count\":210,\"favourites_count\":76725,\"statuses_count\":5354,\"created_at\":\"Mon Jun 14 22:51:08 +0000 2010\",\"utc_offset\":7200,\"time_zone\":\"Paris\",\"geo_enabled\":true,\"lang\":\"fr\",\"contributors_enabled\":false,\"is_translator\":false,\"profile_background_color\":\"356EB3\",\"profile_background_image_url\":\"http:\\/\\/pbs.twimg.com\\/profile_background_images\\/444843732240580608\\/QX8rhRMb.jpeg\",\"profile_background_image_url_https\":\"https:\\/\\/pbs.twimg.com\\/profile_background_images\\/444843732240580608\\/QX8rhRMb.jpeg\",\"profile_background_tile\":false,\"profile_link_color\":\"4A913C\",\"profile_sidebar_border_color\":\"FFFFFF\",\"profile_sidebar_fill_color\":\"DDEEF6\",\"profile_text_color\":\"333333\",\"profile_use_background_image\":true,\"profile_image_url\":\"http:\\/\\/pbs.twimg.com\\/profile_images\\/853692814600937474\\/rfLm2SxI_normal.jpg\",\"profile_image_url_https\":\"https:\\/\\/pbs.twimg.com\\/profile_images\\/853692814600937474\\/rfLm2SxI_normal.jpg\",\"profile_banner_url\":\"https:\\/\\/pbs.twimg.com\\/profile_banners\\/155721492\\/1495761104\",\"default_profile\":false,\"default_profile_image\":false,\"following\":null,\"follow_request_sent\":null,\"notifications\":null},\"geo\":null,\"coordinates\":null,\"place\":null,\"contributors\":null,\"is_quote_status\":false,\"retweet_count\":1142,\"favorite_count\":882,\"entities\":{\"hashtags\":[],\"urls\":[],\"user_mentions\":[],\"symbols\":[],\"media\":[{\"id\":867772044699684864,\"id_str\":\"867772044699684864\",\"indices\":[117,140],\"media_url\":\"http:\\/\\/pbs.twimg.com\\/media\\/DAsNdaeXYAAc_Ll.jpg\",\"media_url_https\":\"https:\\/\\/pbs.twimg.com\\/media\\/DAsNdaeXYAAc_Ll.jpg\",\"url\":\"https:\\/\\/t.co\\/n7n1uSj5kZ\",\"display_url\":\"pic.twitter.com\\/n7n1uSj5kZ\",\"expanded_url\":\"https:\\/\\/twitter.com\\/EmmanuelMacron\\/status\\/867807337364500480\\/video\\/1\",\"type\":\"photo\",\"sizes\":{\"thumb\":{\"w\":150,\"h\":150,\"resize\":\"crop\"},\"medium\":{\"w\":573,\"h\":572,\"resize\":\"fit\"},\"small\":{\"w\":573,\"h\":572,\"resize\":\"fit\"},\"large\":{\"w\":573,\"h\":572,\"resize\":\"fit\"}},\"source_status_id\":867807337364500480,\"source_status_id_str\":\"867807337364500480\",\"source_user_id\":1976143068,\"source_user_id_str\":\"1976143068\"}]},\"extended_entities\":{\"media\":[{\"id\":867772044699684864,\"id_str\":\"867772044699684864\",\"indices\":[117,140],\"media_url\":\"http:\\/\\/pbs.twimg.com\\/media\\/DAsNdaeXYAAc_Ll.jpg\",\"media_url_https\":\"https:\\/\\/pbs.twimg.com\\/media\\/DAsNdaeXYAAc_Ll.jpg\",\"url\":\"https:\\/\\/t.co\\/n7n1uSj5kZ\",\"display_url\":\"pic.twitter.com\\/n7n1uSj5kZ\",\"expanded_url\":\"https:\\/\\/twitter.com\\/EmmanuelMacron\\/status\\/867807337364500480\\/video\\/1\",\"type\":\"video\",\"sizes\":{\"thumb\":{\"w\":150,\"h\":150,\"resize\":\"crop\"},\"medium\":{\"w\":573,\"h\":572,\"resize\":\"fit\"},\"small\":{\"w\":573,\"h\":572,\"resize\":\"fit\"},\"large\":{\"w\":573,\"h\":572,\"resize\":\"fit\"}},\"source_status_id\":867807337364500480,\"source_status_id_str\":\"867807337364500480\",\"source_user_id\":1976143068,\"source_user_id_str\":\"1976143068\",\"video_info\":{\"aspect_ratio\":[1,1],\"duration_millis\":56720,\"variants\":[{\"content_type\":\"application\\/x-mpegURL\",\"url\":\"https:\\/\\/video.twimg.com\\/amplify_video\\/867772044699684864\\/pl\\/MWQO1Z9QJZ2AVa7_.m3u8\"},{\"bitrate\":320000,\"content_type\":\"video\\/mp4\",\"url\":\"https:\\/\\/video.twimg.com\\/amplify_video\\/867772044699684864\\/vid\\/240x240\\/1EUjQSNO9U8ZR9W_.mp4\"},{\"bitrate\":832000,\"content_type\":\"video\\/mp4\",\"url\":\"https:\\/\\/video.twimg.com\\/amplify_video\\/867772044699684864\\/vid\\/480x480\\/BV8Z-jr4xzmvkjgw.mp4\"}]}}]},\"favorited\":false,\"retweeted\":false,\"possibly_sensitive\":false,\"filter_level\":\"low\",\"lang\":\"fr\"},\"is_quote_status\":false,\"retweet_count\":0,\"favorite_count\":0,\"entities\":{\"hashtags\":[],\"urls\":[],\"user_mentions\":[{\"screen_name\":\"MaximeHaes\",\"name\":\"Max \\ud83e\\udd81\",\"id\":155721492,\"id_str\":\"155721492\",\"indices\":[3,14]}],\"symbols\":[]},\"favorited\":false,\"retweeted\":false,\"filter_level\":\"low\",\"lang\":\"fr\",\"timestamp_ms\":\"1495826310563\"}\r",
      "\r\n"
     ]
    }
   ],
   "source": [
    "! head trump.json"
   ]
  },
  {
   "cell_type": "code",
   "execution_count": 18,
   "metadata": {},
   "outputs": [
    {
     "name": "stderr",
     "output_type": "stream",
     "text": [
      "/usr/local/anaconda3/lib/python3.6/site-packages/ipykernel_launcher.py:4: DeprecationWarning: count is deprecated. Use Collection.count_documents instead.\n",
      "  after removing the cwd from sys.path.\n",
      "/usr/local/anaconda3/lib/python3.6/site-packages/ipykernel_launcher.py:11: DeprecationWarning: count is deprecated. Use Collection.count_documents instead.\n",
      "  # This is added back by InteractiveShellApp.init_path()\n"
     ]
    },
    {
     "name": "stdout",
     "output_type": "stream",
     "text": [
      "There were 5841 tweets containing Russia.\n",
      "There were 33939 tweets from US time zones.\n"
     ]
    },
    {
     "name": "stderr",
     "output_type": "stream",
     "text": [
      "/usr/local/anaconda3/lib/python3.6/site-packages/ipykernel_launcher.py:19: DeprecationWarning: count is deprecated. Use Collection.count_documents instead.\n"
     ]
    },
    {
     "data": {
      "text/plain": [
       "{'af': 1,\n",
       " 'ar': 95,\n",
       " 'ca': 47,\n",
       " 'cs': 13,\n",
       " 'da': 49,\n",
       " 'de': 1024,\n",
       " 'el': 33,\n",
       " 'en': 82984,\n",
       " 'en-AU': 3,\n",
       " 'en-GB': 93,\n",
       " 'en-US': 1,\n",
       " 'en-gb': 756,\n",
       " 'es': 3496,\n",
       " 'es-MX': 2,\n",
       " 'eu': 1,\n",
       " 'fa': 8,\n",
       " 'fi': 36,\n",
       " 'fr': 1612,\n",
       " 'gl': 2,\n",
       " 'he': 11,\n",
       " 'hi': 1,\n",
       " 'hr': 24,\n",
       " 'hu': 6,\n",
       " 'id': 95,\n",
       " 'it': 588,\n",
       " 'ja': 91,\n",
       " 'ko': 15,\n",
       " 'lv': 1,\n",
       " 'nl': 389,\n",
       " 'no': 19,\n",
       " 'pl': 123,\n",
       " 'pt': 752,\n",
       " 'pt-PT': 1,\n",
       " 'ro': 4,\n",
       " 'ru': 779,\n",
       " 'sk': 1,\n",
       " 'sr': 6,\n",
       " 'sv': 121,\n",
       " 'th': 15,\n",
       " 'tr': 615,\n",
       " 'uk': 4,\n",
       " 'vi': 6,\n",
       " 'xx-lc': 5,\n",
       " 'zh-CN': 9,\n",
       " 'zh-Hans': 1,\n",
       " 'zh-TW': 2,\n",
       " 'zh-cn': 5,\n",
       " 'zh-tw': 2}"
      ]
     },
     "execution_count": 18,
     "metadata": {},
     "output_type": "execute_result"
    }
   ],
   "source": [
    "#Tweets containing Russia\n",
    "russia_in = re.compile('russia',re.IGNORECASE)\n",
    "russia_tweets = collect.find({'text':{'$regex':russia_in}})\n",
    "print('There were', russia_tweets.count(), \"tweets containing Russia.\")\n",
    "\n",
    "#Tweets from main continental US time\n",
    "timezone = collect.find({'$or':[{'user.time_zone': 'Central Time (US & Canada)'},\n",
    "                                {'user.time_zone': 'Pacific Time (US & Canada)'},\n",
    "                               {'user.time_zone': 'Eastern Time (US & Canada)'},\n",
    "                               {'user.time_zone': 'Mountain Time (US & Canada)'}]})\n",
    "print('There were', timezone.count(), \"tweets from US time zones.\")\n",
    "\n",
    "#Different Languages\n",
    "languages = collect.distinct('user.lang')\n",
    "diff_lang = {}\n",
    "\n",
    "for lang in languages:\n",
    "    sprache = collect.find({'user.lang':lang})\n",
    "    count = sprache.count()\n",
    "    diff_lang[lang] = count\n",
    "\n",
    "diff_lang"
   ]
  },
  {
   "cell_type": "markdown",
   "metadata": {},
   "source": [
    "## Problem 3\n",
    "\n",
    "Query the Twitter collection from Problem 1 for the following information.\n",
    "- What are the usernames of the 5 most popular (defined as having the most followers) tweeters? Don’t include repeats.\n",
    "- Of the tweets containing at least 5 hashtags, sort the tweets by how early the 5th hashtag appears in the text. What is the earliest spot (character count) it appears?\n",
    "- What are the coordinates of the tweet that came from the northernmost location? Use the latitude and longitude point in `\"coordinates\"`."
   ]
  },
  {
   "cell_type": "code",
   "execution_count": 14,
   "metadata": {},
   "outputs": [
    {
     "name": "stdout",
     "output_type": "stream",
     "text": [
      "Top 5 Twitter Usernames, by number of followers\n",
      "\tFollowers: 35481010 \tUser: CNN\n",
      "\tFollowers: 17821353 \tUser: Reuters Top News\n",
      "\tFollowers: 14663497 \tUser: Fox News\n",
      "\tFollowers: 14023091 \tUser: Wall Street Journal\n",
      "\tFollowers: 14017299 \tUser: TIME\n",
      "Earliest character location for hashtag: 134\n",
      "Northenmost tweeter: [28.99237342, 41.06803023]\n"
     ]
    }
   ],
   "source": [
    "#find 5 most popular\n",
    "followers = collect.find({'user.followers_count':{'$gt':1000000}})\n",
    "followers.sort('user.followers_count', -1).limit(10)\n",
    "\n",
    "print('Top 5 Twitter Usernames, by number of followers')\n",
    "top_tweet = []\n",
    "for person in followers:\n",
    "    if person['user']['id'] not in top_tweet and len(top_tweet) < 5:\n",
    "        top_tweet.append(person['user']['id'])\n",
    "        print('\\tFollowers:', person['user']['followers_count'],'\\tUser:', person['user']['name'])\n",
    "\n",
    "#Find earliest hashtags\n",
    "hashtags = collect.find({'entities.hashtags.4':{'$exists': True}}).sort('entities.hashtags.4.indices', -1)\n",
    "print(\"Earliest character location for hashtag:\",\n",
    "     hashtags[0]['entities']['hashtags'][4]['indices'][0])\n",
    "\n",
    "#find northenmost tweet\n",
    "polar = collect.find({'coordinates':{'$ne': None}}).sort('coordinates.coordinates.0', -1)\n",
    "print('Northenmost tweeter:', polar[0]['coordinates']['coordinates'])\n"
   ]
  },
  {
   "cell_type": "markdown",
   "metadata": {},
   "source": [
    "## Problem 4\n",
    "\n",
    "Clean the Twitter collection in the following ways.\n",
    "\n",
    "- Get rid of the `\"retweeted_status\"` field in each tweet.\n",
    "- Update every tweet from someone with at least 1000 followers to include a popular field whose value is True. Report the number of popular tweets.\n",
    "- (OPTIONAL) The geographical coordinates used before in coordinates.coordinates are turned off for most tweets. But many more have a bounding box around the coordinates in the place field. Update every tweet without coordinates that contains a bounding box so that the coordinates contains the average value of the points that form the bounding box. Make the structure of coordinates the same as the others, so it contains coordinates with a longitude, latitude array and a type, the value of which should be ’Point’."
   ]
  },
  {
   "cell_type": "code",
   "execution_count": 15,
   "metadata": {},
   "outputs": [
    {
     "data": {
      "text/plain": [
       "<pymongo.results.UpdateResult at 0x7f539004efc8>"
      ]
     },
     "execution_count": 15,
     "metadata": {},
     "output_type": "execute_result"
    }
   ],
   "source": [
    "collect.update_many({'retweeted_stats':{'$exists':True}},{'$unset':{'retweeted_status':\"\"}})\n"
   ]
  },
  {
   "cell_type": "code",
   "execution_count": 16,
   "metadata": {},
   "outputs": [
    {
     "name": "stderr",
     "output_type": "stream",
     "text": [
      "/usr/local/anaconda3/lib/python3.6/site-packages/ipykernel_launcher.py:3: DeprecationWarning: count is deprecated. Use Collection.count_documents instead.\n",
      "  This is separate from the ipykernel package so we can avoid doing imports until\n"
     ]
    },
    {
     "name": "stdout",
     "output_type": "stream",
     "text": [
      "Number of Popular Tweets: 32489\n"
     ]
    }
   ],
   "source": [
    "collect.update_many({'user.followers_count': {'$gte':1000}},{'$set':{'user.popular':True}})\n",
    "popular = collect.find({'user.popular':{'$eq':True}})\n",
    "print(\"Number of Popular Tweets:\", popular.count())"
   ]
  },
  {
   "cell_type": "code",
   "execution_count": null,
   "metadata": {
    "collapsed": true
   },
   "outputs": [],
   "source": []
  }
 ],
 "metadata": {
  "kernelspec": {
   "display_name": "Python 3",
   "language": "python",
   "name": "python3"
  },
  "language_info": {
   "codemirror_mode": {
    "name": "ipython",
    "version": 3
   },
   "file_extension": ".py",
   "mimetype": "text/x-python",
   "name": "python",
   "nbconvert_exporter": "python",
   "pygments_lexer": "ipython3",
   "version": "3.6.1"
  }
 },
 "nbformat": 4,
 "nbformat_minor": 2
}
