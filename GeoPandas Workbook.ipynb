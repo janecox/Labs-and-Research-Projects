{
 "cells": [
  {
   "cell_type": "code",
   "execution_count": 11,
   "metadata": {},
   "outputs": [],
   "source": [
    "import pandas as pd\n",
    "import geopandas\n",
    "from shapely.geometry import Point\n",
    "import geoplot\n",
    "import geoplot.crs as gcrs"
   ]
  },
  {
   "cell_type": "markdown",
   "metadata": {},
   "source": [
    "## Goal 1\n",
    "\n",
    "find the distance between various airports\n",
    "1. Halifax, lagos\n",
    "2. Bangkok, Beijing\n",
    "3. SLC, Auckland"
   ]
  },
  {
   "cell_type": "code",
   "execution_count": 3,
   "metadata": {},
   "outputs": [
    {
     "data": {
      "text/html": [
       "<div>\n",
       "<style scoped>\n",
       "    .dataframe tbody tr th:only-of-type {\n",
       "        vertical-align: middle;\n",
       "    }\n",
       "\n",
       "    .dataframe tbody tr th {\n",
       "        vertical-align: top;\n",
       "    }\n",
       "\n",
       "    .dataframe thead th {\n",
       "        text-align: right;\n",
       "    }\n",
       "</style>\n",
       "<table border=\"1\" class=\"dataframe\">\n",
       "  <thead>\n",
       "    <tr style=\"text-align: right;\">\n",
       "      <th></th>\n",
       "      <th>Airport ID</th>\n",
       "      <th>Name</th>\n",
       "      <th>City</th>\n",
       "      <th>Country</th>\n",
       "      <th>IATA</th>\n",
       "      <th>ICAO</th>\n",
       "      <th>Latitude</th>\n",
       "      <th>Longitude</th>\n",
       "      <th>Altitude</th>\n",
       "      <th>Timezone</th>\n",
       "      <th>DST</th>\n",
       "      <th>Tz database timezone</th>\n",
       "      <th>Type</th>\n",
       "      <th>Source</th>\n",
       "    </tr>\n",
       "  </thead>\n",
       "  <tbody>\n",
       "    <tr>\n",
       "      <th>0</th>\n",
       "      <td>1</td>\n",
       "      <td>Goroka Airport</td>\n",
       "      <td>Goroka</td>\n",
       "      <td>Papua New Guinea</td>\n",
       "      <td>GKA</td>\n",
       "      <td>AYGA</td>\n",
       "      <td>-6.08169</td>\n",
       "      <td>145.391998</td>\n",
       "      <td>5282</td>\n",
       "      <td>10</td>\n",
       "      <td>U</td>\n",
       "      <td>Pacific/Port_Moresby</td>\n",
       "      <td>airport</td>\n",
       "      <td>OurAirports</td>\n",
       "    </tr>\n",
       "  </tbody>\n",
       "</table>\n",
       "</div>"
      ],
      "text/plain": [
       "   Airport ID            Name    City           Country IATA  ICAO  Latitude  \\\n",
       "0           1  Goroka Airport  Goroka  Papua New Guinea  GKA  AYGA  -6.08169   \n",
       "\n",
       "    Longitude  Altitude Timezone DST  Tz database timezone     Type  \\\n",
       "0  145.391998      5282       10   U  Pacific/Port_Moresby  airport   \n",
       "\n",
       "        Source  \n",
       "0  OurAirports  "
      ]
     },
     "execution_count": 3,
     "metadata": {},
     "output_type": "execute_result"
    }
   ],
   "source": [
    "df = pd.read_csv('airports.csv')\n",
    "df.head(1)"
   ]
  },
  {
   "cell_type": "code",
   "execution_count": 4,
   "metadata": {},
   "outputs": [],
   "source": [
    "df['coordinates'] = list(zip(df.Longitude, df.Latitude))\n",
    "df['coordinates'] = df['coordinates'].apply(Point)\n",
    "gdf = geopandas.GeoDataFrame(df, geometry = 'coordinates')"
   ]
  },
  {
   "cell_type": "code",
   "execution_count": 5,
   "metadata": {},
   "outputs": [
    {
     "name": "stdout",
     "output_type": "stream",
     "text": [
      "Halifax to Lagos 76.90077039796525\n",
      "Bangkok to Beijing 30.65998230105051\n",
      "Salt Lake to Auckland 297.1352055031653\n"
     ]
    }
   ],
   "source": [
    "halifax = gdf[gdf['Name'] == 'Halifax / CFB Shearwater Heliport' ].reset_index().coordinates\n",
    "lagos = gdf[gdf['Name'] == 'Murtala Muhammed International Airport' ].reset_index().coordinates\n",
    "\n",
    "bangkok = gdf[gdf['Name'] == 'Don Mueang International Airport' ].reset_index().coordinates\n",
    "beijing = gdf[gdf['Name'] == 'Beijing Capital International Airport' ].reset_index().coordinates\n",
    "\n",
    "slc = gdf[gdf['Name'] == 'Salt Lake City International Airport' ].reset_index().coordinates\n",
    "auckland = gdf[gdf['Name'] == 'Auckland International Airport' ].reset_index().coordinates\n",
    "\n",
    "\n",
    "print('Halifax to Lagos', halifax.distance(lagos)[0])\n",
    "print('Bangkok to Beijing', bangkok.distance(beijing)[0])\n",
    "print('Salt Lake to Auckland', slc.distance(auckland)[0])"
   ]
  },
  {
   "cell_type": "markdown",
   "metadata": {},
   "source": [
    "## Goal 2\n",
    "1. Find the country with the smallest and largest in the southern hemisphere\n",
    "2. Find the continent with the largest and smallest area in the southern hemisphere"
   ]
  },
  {
   "cell_type": "code",
   "execution_count": 6,
   "metadata": {},
   "outputs": [
    {
     "data": {
      "text/html": [
       "<div>\n",
       "<style scoped>\n",
       "    .dataframe tbody tr th:only-of-type {\n",
       "        vertical-align: middle;\n",
       "    }\n",
       "\n",
       "    .dataframe tbody tr th {\n",
       "        vertical-align: top;\n",
       "    }\n",
       "\n",
       "    .dataframe thead th {\n",
       "        text-align: right;\n",
       "    }\n",
       "</style>\n",
       "<table border=\"1\" class=\"dataframe\">\n",
       "  <thead>\n",
       "    <tr style=\"text-align: right;\">\n",
       "      <th></th>\n",
       "      <th>pop_est</th>\n",
       "      <th>continent</th>\n",
       "      <th>name</th>\n",
       "      <th>iso_a3</th>\n",
       "      <th>gdp_md_est</th>\n",
       "      <th>geometry</th>\n",
       "    </tr>\n",
       "  </thead>\n",
       "  <tbody>\n",
       "    <tr>\n",
       "      <th>0</th>\n",
       "      <td>28400000.0</td>\n",
       "      <td>Asia</td>\n",
       "      <td>Afghanistan</td>\n",
       "      <td>AFG</td>\n",
       "      <td>22270.0</td>\n",
       "      <td>POLYGON ((61.21081709172574 35.65007233330923,...</td>\n",
       "    </tr>\n",
       "    <tr>\n",
       "      <th>1</th>\n",
       "      <td>12799293.0</td>\n",
       "      <td>Africa</td>\n",
       "      <td>Angola</td>\n",
       "      <td>AGO</td>\n",
       "      <td>110300.0</td>\n",
       "      <td>(POLYGON ((16.32652835456705 -5.87747039146621...</td>\n",
       "    </tr>\n",
       "  </tbody>\n",
       "</table>\n",
       "</div>"
      ],
      "text/plain": [
       "      pop_est continent         name iso_a3  gdp_md_est  \\\n",
       "0  28400000.0      Asia  Afghanistan    AFG     22270.0   \n",
       "1  12799293.0    Africa       Angola    AGO    110300.0   \n",
       "\n",
       "                                            geometry  \n",
       "0  POLYGON ((61.21081709172574 35.65007233330923,...  \n",
       "1  (POLYGON ((16.32652835456705 -5.87747039146621...  "
      ]
     },
     "execution_count": 6,
     "metadata": {},
     "output_type": "execute_result"
    }
   ],
   "source": [
    "world = geopandas.read_file(geopandas.datasets.get_path('naturalearth_lowres'))\n",
    "world.head(2)"
   ]
  },
  {
   "cell_type": "code",
   "execution_count": 7,
   "metadata": {},
   "outputs": [
    {
     "name": "stdout",
     "output_type": "stream",
     "text": [
      "Vanuatu has the smallest area of any country in the southern hemisphere, and Antarctica has the largest.\n",
      "\n",
      "The Seven Seas has the smallest area of any continent, Antarctica has the largest.\n"
     ]
    }
   ],
   "source": [
    "world['area'] = world.area\n",
    "south = world.cx[0:, :0]\n",
    "\n",
    "south_min = south.loc[south['area'].idxmin()]\n",
    "south_max = south.loc[south['area'].idxmax()]\n",
    "#print(south_min, south_max)\n",
    "print('Vanuatu has the smallest area of any country in the southern hemisphere, and Antarctica has the largest.\\n')\n",
    "\n",
    "continent = world.dissolve(by = 'continent', aggfunc = 'sum')\n",
    "con_min = continent.loc[continent['area'].idxmin()]\n",
    "con_max = continent.loc[continent['area'].idxmax()]\n",
    "#print(con_min, con_max)\n",
    "\n",
    "print('The Seven Seas has the smallest area of any continent, Antarctica has the largest.')"
   ]
  },
  {
   "cell_type": "markdown",
   "metadata": {},
   "source": [
    "## Goal 3\n",
    "Create populatio density plots for Asia and South America, using Mercator maps"
   ]
  },
  {
   "cell_type": "code",
   "execution_count": 25,
   "metadata": {},
   "outputs": [
    {
     "data": {
      "text/plain": [
       "<matplotlib.axes._subplots.AxesSubplot at 0x7f9a9a6ee438>"
      ]
     },
     "execution_count": 25,
     "metadata": {},
     "output_type": "execute_result"
    },
    {
     "data": {
      "image/png": "[encoded data removed]",
      "text/plain": [
       "<Figure size 432x288 with 2 Axes>"
      ]
     },
     "metadata": {},
     "output_type": "display_data"
    },
    {
     "data": {
      "image/png": "[encoded data removed]",
      "text/plain": [
       "<Figure size 432x288 with 2 Axes>"
      ]
     },
     "metadata": {},
     "output_type": "display_data"
    }
   ],
   "source": [
    "world.crs = {'init' : 'epsg:4326'}\n",
    "world.to_crs({'init': 'epsg:3395'})\n",
    "\n",
    "sa = world[world['continent'] == 'South America']\n",
    "sa.plot(column = 'gdp_md_est', cmap = 'OrRd', legend = True)\n",
    "\n",
    "asia =  world[world['continent'] == 'Asia']\n",
    "asia.plot(column = 'gdp_md_est', cmap = 'OrRd', legend = True)\n"
   ]
  },
  {
   "cell_type": "markdown",
   "metadata": {},
   "source": [
    "## Goal 4\n",
    "1. Merge the airports GeoDataFrame and the world GeoDataFrame on spatial data\n",
    "2. Find the airport in the country with the smallest population estimate"
   ]
  },
  {
   "cell_type": "code",
   "execution_count": 26,
   "metadata": {},
   "outputs": [
    {
     "data": {
      "text/html": [
       "<div>\n",
       "<style scoped>\n",
       "    .dataframe tbody tr th:only-of-type {\n",
       "        vertical-align: middle;\n",
       "    }\n",
       "\n",
       "    .dataframe tbody tr th {\n",
       "        vertical-align: top;\n",
       "    }\n",
       "\n",
       "    .dataframe thead th {\n",
       "        text-align: right;\n",
       "    }\n",
       "</style>\n",
       "<table border=\"1\" class=\"dataframe\">\n",
       "  <thead>\n",
       "    <tr style=\"text-align: right;\">\n",
       "      <th></th>\n",
       "      <th>pop_est</th>\n",
       "      <th>continent</th>\n",
       "      <th>name</th>\n",
       "      <th>iso_a3</th>\n",
       "      <th>gdp_md_est</th>\n",
       "      <th>geometry</th>\n",
       "      <th>area</th>\n",
       "    </tr>\n",
       "  </thead>\n",
       "  <tbody>\n",
       "    <tr>\n",
       "      <th>0</th>\n",
       "      <td>28400000.0</td>\n",
       "      <td>Asia</td>\n",
       "      <td>Afghanistan</td>\n",
       "      <td>AFG</td>\n",
       "      <td>22270.0</td>\n",
       "      <td>POLYGON ((61.21081709172574 35.65007233330923,...</td>\n",
       "      <td>63.593500</td>\n",
       "    </tr>\n",
       "    <tr>\n",
       "      <th>1</th>\n",
       "      <td>12799293.0</td>\n",
       "      <td>Africa</td>\n",
       "      <td>Angola</td>\n",
       "      <td>AGO</td>\n",
       "      <td>110300.0</td>\n",
       "      <td>(POLYGON ((16.32652835456705 -5.87747039146621...</td>\n",
       "      <td>103.599439</td>\n",
       "    </tr>\n",
       "  </tbody>\n",
       "</table>\n",
       "</div>"
      ],
      "text/plain": [
       "      pop_est continent         name iso_a3  gdp_md_est  \\\n",
       "0  28400000.0      Asia  Afghanistan    AFG     22270.0   \n",
       "1  12799293.0    Africa       Angola    AGO    110300.0   \n",
       "\n",
       "                                            geometry        area  \n",
       "0  POLYGON ((61.21081709172574 35.65007233330923,...   63.593500  \n",
       "1  (POLYGON ((16.32652835456705 -5.87747039146621...  103.599439  "
      ]
     },
     "execution_count": 26,
     "metadata": {},
     "output_type": "execute_result"
    }
   ],
   "source": [
    "world.head(2)"
   ]
  },
  {
   "cell_type": "code",
   "execution_count": 27,
   "metadata": {},
   "outputs": [
    {
     "data": {
      "text/html": [
       "<div>\n",
       "<style scoped>\n",
       "    .dataframe tbody tr th:only-of-type {\n",
       "        vertical-align: middle;\n",
       "    }\n",
       "\n",
       "    .dataframe tbody tr th {\n",
       "        vertical-align: top;\n",
       "    }\n",
       "\n",
       "    .dataframe thead th {\n",
       "        text-align: right;\n",
       "    }\n",
       "</style>\n",
       "<table border=\"1\" class=\"dataframe\">\n",
       "  <thead>\n",
       "    <tr style=\"text-align: right;\">\n",
       "      <th></th>\n",
       "      <th>Airport ID</th>\n",
       "      <th>Name</th>\n",
       "      <th>City</th>\n",
       "      <th>Country</th>\n",
       "      <th>IATA</th>\n",
       "      <th>ICAO</th>\n",
       "      <th>Latitude</th>\n",
       "      <th>Longitude</th>\n",
       "      <th>Altitude</th>\n",
       "      <th>Timezone</th>\n",
       "      <th>DST</th>\n",
       "      <th>Tz database timezone</th>\n",
       "      <th>Type</th>\n",
       "      <th>Source</th>\n",
       "      <th>coordinates</th>\n",
       "    </tr>\n",
       "  </thead>\n",
       "  <tbody>\n",
       "    <tr>\n",
       "      <th>0</th>\n",
       "      <td>1</td>\n",
       "      <td>Goroka Airport</td>\n",
       "      <td>Goroka</td>\n",
       "      <td>Papua New Guinea</td>\n",
       "      <td>GKA</td>\n",
       "      <td>AYGA</td>\n",
       "      <td>-6.08169</td>\n",
       "      <td>145.391998</td>\n",
       "      <td>5282</td>\n",
       "      <td>10</td>\n",
       "      <td>U</td>\n",
       "      <td>Pacific/Port_Moresby</td>\n",
       "      <td>airport</td>\n",
       "      <td>OurAirports</td>\n",
       "      <td>POINT (145.391998291 -6.081689834590001)</td>\n",
       "    </tr>\n",
       "    <tr>\n",
       "      <th>1</th>\n",
       "      <td>2</td>\n",
       "      <td>Madang Airport</td>\n",
       "      <td>Madang</td>\n",
       "      <td>Papua New Guinea</td>\n",
       "      <td>MAG</td>\n",
       "      <td>AYMD</td>\n",
       "      <td>-5.20708</td>\n",
       "      <td>145.789001</td>\n",
       "      <td>20</td>\n",
       "      <td>10</td>\n",
       "      <td>U</td>\n",
       "      <td>Pacific/Port_Moresby</td>\n",
       "      <td>airport</td>\n",
       "      <td>OurAirports</td>\n",
       "      <td>POINT (145.789001465 -5.20707988739)</td>\n",
       "    </tr>\n",
       "  </tbody>\n",
       "</table>\n",
       "</div>"
      ],
      "text/plain": [
       "   Airport ID            Name    City           Country IATA  ICAO  Latitude  \\\n",
       "0           1  Goroka Airport  Goroka  Papua New Guinea  GKA  AYGA  -6.08169   \n",
       "1           2  Madang Airport  Madang  Papua New Guinea  MAG  AYMD  -5.20708   \n",
       "\n",
       "    Longitude  Altitude Timezone DST  Tz database timezone     Type  \\\n",
       "0  145.391998      5282       10   U  Pacific/Port_Moresby  airport   \n",
       "1  145.789001        20       10   U  Pacific/Port_Moresby  airport   \n",
       "\n",
       "        Source                               coordinates  \n",
       "0  OurAirports  POINT (145.391998291 -6.081689834590001)  \n",
       "1  OurAirports      POINT (145.789001465 -5.20707988739)  "
      ]
     },
     "execution_count": 27,
     "metadata": {},
     "output_type": "execute_result"
    }
   ],
   "source": [
    "gdf.head(2)"
   ]
  },
  {
   "cell_type": "code",
   "execution_count": 37,
   "metadata": {},
   "outputs": [
    {
     "name": "stdout",
     "output_type": "stream",
     "text": [
      "The airport in the country with the smallest population estimate is the  Mount Pleasant Airport in the Falkland Islands.\n"
     ]
    }
   ],
   "source": [
    "gdf.crs = {'init' : 'epsg:4326'}\n",
    "countries = geopandas.sjoin(world,gdf, how = 'inner', op = 'intersects')\n",
    "\n",
    "small_port = countries.loc[countries['pop_est'].idxmin()]\n",
    "#print(small_port)\n",
    "print('The airport in the country with the smallest population estimate is the  Mount Pleasant Airport in the Falkland Islands.')"
   ]
  },
  {
   "cell_type": "code",
   "execution_count": null,
   "metadata": {},
   "outputs": [],
   "source": []
  }
 ],
 "metadata": {
  "kernelspec": {
   "display_name": "Python 3",
   "language": "python",
   "name": "python3"
  },
  "language_info": {
   "codemirror_mode": {
    "name": "ipython",
    "version": 3
   },
   "file_extension": ".py",
   "mimetype": "text/x-python",
   "name": "python",
   "nbconvert_exporter": "python",
   "pygments_lexer": "ipython3",
   "version": "3.7.3"
  }
 },
 "nbformat": 4,
 "nbformat_minor": 2
}
