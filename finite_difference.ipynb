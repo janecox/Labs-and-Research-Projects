{
 "cells": [
  {
   "cell_type": "markdown",
   "metadata": {},
   "source": [
    "# Lab 7: The Finite Difference Method"
   ]
  },
  {
   "cell_type": "code",
   "execution_count": 5,
   "metadata": {
    "collapsed": true
   },
   "outputs": [],
   "source": [
    "import numpy as np\n",
    "from scipy.sparse import diags\n",
    "from matplotlib import pyplot as plt"
   ]
  },
  {
   "cell_type": "markdown",
   "metadata": {},
   "source": [
    "## Problem 1\n",
    "\n",
    "Let $u(x) = sin((x+\\pi)^2-1)$. Use (7.3)-(7.6) to approximate $\\frac{1}{2}u''-u'$ at the grid points where $a=0$, $b=1$, and $n=10$. Graph the result."
   ]
  },
  {
   "cell_type": "code",
   "execution_count": 1,
   "metadata": {},
   "outputs": [
    {
     "ename": "NameError",
     "evalue": "name 'np' is not defined",
     "output_type": "error",
     "traceback": [
      "\u001b[1;31m---------------------------------------------------------------------------\u001b[0m",
      "\u001b[1;31mNameError\u001b[0m                                 Traceback (most recent call last)",
      "\u001b[1;32m<ipython-input-1-cd3c3b7004e4>\u001b[0m in \u001b[0;36m<module>\u001b[1;34m()\u001b[0m\n\u001b[0;32m      1\u001b[0m \u001b[0ma\u001b[0m\u001b[1;33m,\u001b[0m \u001b[0mb\u001b[0m\u001b[1;33m,\u001b[0m \u001b[0mn\u001b[0m \u001b[1;33m=\u001b[0m \u001b[1;36m0\u001b[0m\u001b[1;33m,\u001b[0m \u001b[1;36m1\u001b[0m\u001b[1;33m,\u001b[0m \u001b[1;36m10\u001b[0m\u001b[1;33m\u001b[0m\u001b[0m\n\u001b[0;32m      2\u001b[0m \u001b[0mh\u001b[0m \u001b[1;33m=\u001b[0m \u001b[1;33m(\u001b[0m\u001b[0mb\u001b[0m\u001b[1;33m-\u001b[0m\u001b[0ma\u001b[0m\u001b[1;33m)\u001b[0m\u001b[1;33m/\u001b[0m\u001b[0mn\u001b[0m\u001b[1;33m\u001b[0m\u001b[0m\n\u001b[1;32m----> 3\u001b[1;33m \u001b[0mgrid\u001b[0m \u001b[1;33m=\u001b[0m \u001b[0mnp\u001b[0m\u001b[1;33m.\u001b[0m\u001b[0mlinspace\u001b[0m\u001b[1;33m(\u001b[0m\u001b[0ma\u001b[0m\u001b[1;33m,\u001b[0m\u001b[0mb\u001b[0m\u001b[1;33m,\u001b[0m\u001b[0mn\u001b[0m\u001b[1;33m)\u001b[0m\u001b[1;33m\u001b[0m\u001b[0m\n\u001b[0m\u001b[0;32m      4\u001b[0m \u001b[0mu\u001b[0m \u001b[1;33m=\u001b[0m \u001b[1;32mlambda\u001b[0m \u001b[0mx\u001b[0m\u001b[1;33m:\u001b[0m \u001b[0mnp\u001b[0m\u001b[1;33m.\u001b[0m\u001b[0msin\u001b[0m\u001b[1;33m(\u001b[0m\u001b[1;33m(\u001b[0m\u001b[0mx\u001b[0m\u001b[1;33m+\u001b[0m\u001b[0mnp\u001b[0m\u001b[1;33m.\u001b[0m\u001b[0mpi\u001b[0m\u001b[1;33m)\u001b[0m\u001b[1;33m**\u001b[0m\u001b[1;36m2\u001b[0m \u001b[1;33m-\u001b[0m \u001b[1;36m1\u001b[0m\u001b[1;33m)\u001b[0m\u001b[1;33m\u001b[0m\u001b[0m\n\u001b[0;32m      5\u001b[0m \u001b[0mx\u001b[0m \u001b[1;33m=\u001b[0m \u001b[1;32mlambda\u001b[0m \u001b[0mi\u001b[0m\u001b[1;33m:\u001b[0m \u001b[0ma\u001b[0m \u001b[1;33m+\u001b[0m \u001b[1;33m(\u001b[0m\u001b[0mi\u001b[0m\u001b[1;33m+\u001b[0m\u001b[1;36m1\u001b[0m\u001b[1;33m)\u001b[0m\u001b[1;33m*\u001b[0m\u001b[0mh\u001b[0m\u001b[1;33m\u001b[0m\u001b[0m\n",
      "\u001b[1;31mNameError\u001b[0m: name 'np' is not defined"
     ]
    }
   ],
   "source": [
    "a, b, n = 0, 1, 10\n",
    "h = (b-a)/n\n",
    "grid = np.linspace(a,b,n)\n",
    "u = lambda x: np.sin((x+np.pi)**2 - 1)\n",
    "x = lambda i: a + (i+1)*h\n",
    "\n",
    "# Approximating the first derivative using (7.4)\n",
    "ones_matrix = diags([-1,0,1],[-1,0,1],shape=(n-1,n-1)).todense()\n",
    "straight_u = u(grid[:-1]) # don't include b\n",
    "h_u = np.zeros(n-1)\n",
    "h_u[0] = -1*u(x(-1))/(2*h)\n",
    "h_u[-1] = u(x(n-1))/(2*h)\n",
    "print(\"h_u:\\n\", h_u)\n",
    "u_deriv = 1/(2*h)*(np.dot(ones_matrix,straight_u)) + h_u\n",
    "print(\"Approx deriv:\\n\", u_deriv) # use this to test with the actual derivative below\n",
    "\n",
    "# For testing, this is the actual derivative\n",
    "v = lambda x: 2*(x+np.pi)*np.cos(1-(x+np.pi)**2)\n",
    "print(\"actual deriv:\\n\",v(grid[:-1]))\n",
    "# As of right now, they are pretty close ***UNTIL THE LAST ONE OF THE APPROX***\n",
    "# ** NEED TO FIX SOMETHING**\n",
    "\n",
    "# Aprroximating the second derivative using (7.6)\n",
    "diag_matrix = diags([1,-2,1],[-1,0,1],shape=(n-1,n-1)).todense()\n",
    "# the straight_u is the same as the first derivative\n",
    "hh_u = np.zeros(n-1)\n",
    "hh_u[0] = u(x(-1))/h**2\n",
    "hh_u[-1] = u(x(n-1))/h**2\n",
    "print(\"\\nhh_u:\\n\",hh_u)\n",
    "u_second_deriv = 1/h**2*(np.dot(diag_matrix,straight_u))+hh_u\n",
    "print(\"Approx 2nd deriv:\\n\",u_second_deriv)\n",
    "\n",
    "# For testing, this is the actual second derivative\n",
    "w = lambda x: 4*(x+np.pi)**2*np.sin(1-(x+np.pi)**2)+2*np.cos(1-(x+np.pi)**2)\n",
    "print(\"actual 2nd deriv:\\n\",w(grid[:-1]))\n",
    "# Note that the approximated values are nearly as close in the second deriv\n",
    "# as they were for the first deriv\n",
    "\n",
    "\n",
    "approx = 1/2*u_second_deriv - u_deriv\n",
    "plt.plot(grid[:-1],approx.T,label=\"My Approx\")\n",
    "plt.plot(grid[:-1],(1/2*u_second_deriv - u_deriv).T,label=\"Actual\")\n",
    "plt.legend()\n",
    "plt.show()"
   ]
  },
  {
   "cell_type": "markdown",
   "metadata": {},
   "source": [
    "## Problem 2\n",
    "\n",
    "Use equation (7.9) to solve the singularly perturbed BVP (7.7) with $\\epsilon=\\frac{1}{10}$, $f(x)=-1$, $\\alpha=1$, and $\\beta=3$. Graph the solution. This BVP is called singularly perturbed because of the location of the parameter $\\epsilon$. For $\\epsilon=0$ the ODE has a drastically different character--it then becomes first order, and can no longer support two bondary conditions.\n",
    "\n",
    "That is $\\epsilon$*x - u(x)' = f(x), x in (0,1), and u(0) = $\\alpha$, u(1) = $\\beta$"
   ]
  },
  {
   "cell_type": "code",
   "execution_count": 22,
   "metadata": {},
   "outputs": [
    {
     "data": {
      "image/png": "[encoded data removed]",
      "text/plain": [
       "<matplotlib.figure.Figure at 0x16642bc2da0>"
      ]
     },
     "metadata": {},
     "output_type": "display_data"
    }
   ],
   "source": [
    "a = 0\n",
    "b = 1\n",
    "alpha = 1\n",
    "beta = 3\n",
    "fx = -1\n",
    "e = .10\n",
    "n = 1000\n",
    "h = (b-a)/n\n",
    "\n",
    "matrix = diags([e+h/2, -2*e, e-h/2],[-1,-0,1],shape = (n-1,n-1)).todense()\n",
    "f_v = fx*np.ones(n-1)\n",
    "f_v[0] = f_v[0] - alpha*(e+h/2)/h**2\n",
    "f_v[-1] = f_v[-1] - beta*(e-h/2)/h**2\n",
    "\n",
    "U = la.solve(1/h**2*matrix,f_v)\n",
    "plt.plot(U)\n",
    "plt.show()"
   ]
  },
  {
   "cell_type": "markdown",
   "metadata": {},
   "source": [
    "## Problem 3\n",
    "\n",
    "Return to Problem 2. How many subintervals are needed to obtain 4 digits of accuracy? \n",
    "\n",
    "This is a question about the convergence of your solution. the following code generates the log-log plot in Figure 7.2, and demonstrates second-order convergence for our finite difference approximation of (7.7). Use this code to determine what $h$ (and hence what $N$) is needed for the error to be less than $10^{-4}$. You don't need to return the value of $h$, but make sure you understand by looking at the plot.\n",
    "\n",
    "Note: The function bvp is not provided; you need to use your code from Problem 2 to define it. Make sure your function is compatible with the code below. It must take 5 parameters as infput and return the solution. "
   ]
  },
  {
   "cell_type": "code",
   "execution_count": 47,
   "metadata": {},
   "outputs": [
    {
     "data": {
      "image/png": "[encoded data removed]",
      "text/plain": [
       "<matplotlib.figure.Figure at 0x16642b422e8>"
      ]
     },
     "metadata": {},
     "output_type": "display_data"
    },
    {
     "name": "stdout",
     "output_type": "stream",
     "text": [
      "The order of the finite difference approximation is about  2.06975086632 .\n"
     ]
    }
   ],
   "source": [
    "f = lambda x: -1 + 0*x\n",
    "#print (f(10))\n",
    "def bvp(f,e = 0.1,alpha = 1,beta = 3,n = 100):\n",
    "    a,b = 0,1\n",
    "    h = (b-a)/n\n",
    "    u = f(n)* np.ones(n-1)\n",
    "    \n",
    "    c =  diags([e+h/2, -2*e, e-h/2],[-1,-0,1],shape = (n-1,n-1)).todense()\n",
    "    c*= (1/h**2)\n",
    "    \n",
    "    u[0] = u[0] - alpha*(e+h/2)/h**2\n",
    "    u[-1] -= beta*(e - h/2)/h**2 \n",
    "    U = la.solve(c,u)  \n",
    "    return np.hstack((np.array([alpha]),U, np.array([beta])))\n",
    "\n",
    "\n",
    "num_approx = 10 \n",
    "# Number of Approximationsrfg\n",
    "n = 5*np.array([2**j for j in range(num_approx)])\n",
    "h, max_error = (1.-0)/N[:-1], np.ones(num_approx-1)\n",
    "# Best numerical solution, used to approximate the true solution. \n",
    "# bvp returns the grid, and the grid function, approximating the solution \n",
    "# with N subintervals of equal length. \n",
    "num_sol_best = bvp(lambda x:-1, e=.1, alpha=1, beta=3, n=n[-1]) \n",
    "for j in range(len(N)-1): \n",
    "    num_sol = bvp(lambda x:-1, e=.1, alpha=1, beta=3, n=n[j])\n",
    "    max_error[j] = np.max(np.abs(num_sol-num_sol_best[::2**(num_approx-j-1)])) \n",
    "plt.loglog(h,max_error,'.-r',label=\"$E(h)$\") \n",
    "plt.loglog(h,h**(2.),'-k',label=\"$h^{\\, 2}$\") \n",
    "plt.xlabel(\"$h$\") \n",
    "plt.legend(loc='best') \n",
    "plt.show() \n",
    "print(\"The order of the finite difference approximation is about \", \n",
    "          (np.log(max_error[0])-np.log(max_error[-1]))/(np.log(h[0])-np.log(h[-1])), \n",
    "          \".\")\n"
   ]
  },
  {
   "cell_type": "markdown",
   "metadata": {},
   "source": [
    "## Problem 4\n",
    "\n",
    "Extend your finite difference code to the case of a general second order linear BVP with boundary conditions (these boundary conditions are sometimes the Dirichlet conditions):\n",
    "$$a_1(x)y''+a_2(x)y'+a_3(x)y=f(x), x\\in(1,b),$$\n",
    "$$y(a)=\\alpha,\\quad y(b)=\\beta$$\n",
    "Use your code to solve the boundary value problem\n",
    "$$\\epsilon y''-4(\\pi-x^2)y=cosx,$$\n",
    "$$y(0)=0,\\quad y(\\frac{\\pi}{2})=1,$$\n",
    "for $\\epsilon=0.1$. Be sure to modify the finite difference operator $D_h$ in (7.8) correctly. "
   ]
  },
  {
   "cell_type": "code",
   "execution_count": null,
   "metadata": {
    "collapsed": true
   },
   "outputs": [],
   "source": []
  },
  {
   "cell_type": "markdown",
   "metadata": {},
   "source": [
    "## Problem 5\n",
    "\n",
    "Numerically solve the boundary value problem\n",
    "$$\\epsilon y''+xy'=-\\epsilon \\pi^2cos(\\pi x)-\\pi xsin(\\pi x)$$,\n",
    "$$y(-1)=-2,\\quad y(1)=0$$,\n",
    "for $\\epsilon =0.1,0.01, \\quad\\textrm{and}\\quad 0.001$."
   ]
  },
  {
   "cell_type": "code",
   "execution_count": null,
   "metadata": {
    "collapsed": true
   },
   "outputs": [],
   "source": []
  },
  {
   "cell_type": "markdown",
   "metadata": {},
   "source": [
    "## Problem 6\n",
    "\n",
    "Numerically solve the boundary value problem\n",
    "$$(\\epsilon+x^2)y''+4xy'+2y=0$$\n",
    "$$y(-1)=1/(1+\\epsilon),\\quad y(1)=1/(1+\\epsilon),$$\n",
    "for $\\epsilon = 0.05,0.02$."
   ]
  },
  {
   "cell_type": "code",
   "execution_count": null,
   "metadata": {
    "collapsed": true
   },
   "outputs": [],
   "source": []
  }
 ],
 "metadata": {
  "kernelspec": {
   "display_name": "Python 3",
   "language": "python",
   "name": "python3"
  },
  "language_info": {
   "codemirror_mode": {
    "name": "ipython",
    "version": 3
   },
   "file_extension": ".py",
   "mimetype": "text/x-python",
   "name": "python",
   "nbconvert_exporter": "python",
   "pygments_lexer": "ipython3",
   "version": "3.6.1"
  }
 },
 "nbformat": 4,
 "nbformat_minor": 2
}
